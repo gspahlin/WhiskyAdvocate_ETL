{
 "cells": [
  {
   "cell_type": "code",
   "execution_count": 1,
   "metadata": {},
   "outputs": [],
   "source": [
    "#import all the jank\n",
    "import pandas as pd\n",
    "import numpy as np\n",
    "from bs4 import BeautifulSoup as bs\n",
    "from splinter import Browser\n",
    "from webdriver_manager.chrome import ChromeDriverManager\n",
    "import requests\n",
    "import lxml"
   ]
  },
  {
   "cell_type": "code",
   "execution_count": 2,
   "metadata": {},
   "outputs": [],
   "source": [
    "#get splinter to the webpage\n",
    "#first set up splinter to use chrome by installing webdriver\n",
    "#this turns out to be unneccesary\n",
    "#exe_p = {'executable_path': ChromeDriverManager().install()}\n",
    "#browser = Browser('chrome', **exe_p, headless=False)"
   ]
  },
  {
   "cell_type": "markdown",
   "metadata": {},
   "source": [
    "# Obtain Information for Iterative Scraping "
   ]
  },
  {
   "cell_type": "code",
   "execution_count": 3,
   "metadata": {},
   "outputs": [],
   "source": [
    "#go to Whiskey Advocate\n",
    "\n",
    "booze = 'https://www.whiskyadvocate.com/'\n",
    "\n",
    "#browser.visit(booze)"
   ]
  },
  {
   "cell_type": "code",
   "execution_count": 4,
   "metadata": {},
   "outputs": [
    {
     "name": "stdout",
     "output_type": "stream",
     "text": [
      "1301\n"
     ]
    }
   ],
   "source": [
    "#scrape the style dropdown menu into a list\n",
    "\n",
    "response = requests.get(booze)\n",
    "\n",
    "soup = bs(response.text)\n",
    "\n",
    "styles = soup.find_all('option')\n",
    "\n",
    "\n",
    "print(len(styles))\n",
    "\n",
    "cleanSty = []\n",
    "id_vals = []\n",
    "\n",
    "for style in styles:\n",
    "    #print(style['value'])\n",
    "    cleanSty.append(style.text)\n",
    "    id_vals.append(style['value'])"
   ]
  },
  {
   "cell_type": "code",
   "execution_count": 5,
   "metadata": {},
   "outputs": [],
   "source": [
    "#use a dataframe to number these for easy identification\n",
    "\n",
    "stDict = {\"dropdown_options\": cleanSty, \"option_value\": id_vals}\n",
    "\n",
    "st_df = pd.DataFrame(stDict)\n",
    "\n",
    "pd.set_option('display.max_rows', 400)\n",
    "\n",
    "#st_df.tail(400)"
   ]
  },
  {
   "cell_type": "code",
   "execution_count": 6,
   "metadata": {},
   "outputs": [
    {
     "data": {
      "text/plain": [
       "['68',\n",
       " '15',\n",
       " '31',\n",
       " '52',\n",
       " '27',\n",
       " '53',\n",
       " '42',\n",
       " '57',\n",
       " '55',\n",
       " '67',\n",
       " '17',\n",
       " '69',\n",
       " '3',\n",
       " '4',\n",
       " '7',\n",
       " '10',\n",
       " '63',\n",
       " '40',\n",
       " '49',\n",
       " '48',\n",
       " '47',\n",
       " '44',\n",
       " '41',\n",
       " '28',\n",
       " '60',\n",
       " '19',\n",
       " '8',\n",
       " '65',\n",
       " '37',\n",
       " '46',\n",
       " '71',\n",
       " '72',\n",
       " '70',\n",
       " '11',\n",
       " '50',\n",
       " '73',\n",
       " '45',\n",
       " '62',\n",
       " '26',\n",
       " '9',\n",
       " '56',\n",
       " '5',\n",
       " '58',\n",
       " '20',\n",
       " '64',\n",
       " '18',\n",
       " '21',\n",
       " '23',\n",
       " '61',\n",
       " '59',\n",
       " '1',\n",
       " '16',\n",
       " '29',\n",
       " '32',\n",
       " '39',\n",
       " '30',\n",
       " '2',\n",
       " '13',\n",
       " '33',\n",
       " '34',\n",
       " '66']"
      ]
     },
     "execution_count": 6,
     "metadata": {},
     "output_type": "execute_result"
    }
   ],
   "source": [
    "#cut the list down to just the relevant values\n",
    "#I most likely need the id values because they are what actually plug in the URL for the search url\n",
    "\n",
    "w_styles = st_df.iloc[1142:1203]['dropdown_options'].to_list()\n",
    "\n",
    "w_ids = st_df.iloc[1142:1203]['option_value'].to_list()\n",
    "\n",
    "w_ids"
   ]
  },
  {
   "cell_type": "markdown",
   "metadata": {},
   "source": [
    "# Identify Location of Relevant Information in the Search Results Page"
   ]
  },
  {
   "cell_type": "code",
   "execution_count": 7,
   "metadata": {},
   "outputs": [],
   "source": [
    "#I will iterate through this list when I'm ready to scrape my full dataset. \n",
    "#search_url works with browser command\n",
    "\n",
    "search_url ='https://www.whiskyadvocate.com/ratings-reviews/?search=&submit=&brand_id=0&rating=0&price=0&category=0&styles_id=68&issue_id=0'\n",
    "\n",
    "#browser.visit(search_url)"
   ]
  },
  {
   "cell_type": "code",
   "execution_count": 8,
   "metadata": {},
   "outputs": [
    {
     "name": "stdout",
     "output_type": "stream",
     "text": [
      "8 scores found\n",
      "88\n",
      "87\n",
      "87\n",
      "86\n",
      "85\n",
      "84\n",
      "83\n",
      "82\n"
     ]
    }
   ],
   "source": [
    "#Now I need to figure out how to scrape the crap off the page at the test url. the first style has 8 entries \n",
    "#I should get 8 entries in the lists. \n",
    "\n",
    "chow = requests.get(search_url)\n",
    "\n",
    "chowder = bs(chow.text)\n",
    "\n",
    "scores = chowder.find_all('span', itemprop = 'ratingValue')\n",
    "\n",
    "print(f'{len(scores)} scores found')\n",
    "\n",
    "for score in scores:\n",
    "    print(score.text)"
   ]
  },
  {
   "cell_type": "code",
   "execution_count": 9,
   "metadata": {},
   "outputs": [
    {
     "name": "stdout",
     "output_type": "stream",
     "text": [
      "8 names found\n",
      "Spirit Hound Single Barrel Straight Malt (Barrel 66), 45%\n",
      "Dogfish Head Straight Malt, 40%\n",
      "Balcones Texas Bock Straight Malt Whiskey, 50%\n",
      "Woodford Reserve Straight Malt Whiskey, 45.2%\n",
      "Spirit Hound Colorado Honey Malt (Barrel No. 4), 45%\n",
      "Parker’s Heritage Collection Kentucky Straight Malt Whiskey 8 year old, 54%\n",
      "Woodford Reserve Master’s Collection Straight Malt, 45.2%\n",
      "Woodford Reserve Master’s Collection Classic Malt, 45.2%\n"
     ]
    }
   ],
   "source": [
    "#get whiskey name now\n",
    "\n",
    "names = chowder.find_all('h1', itemprop = 'name')\n",
    "\n",
    "print(f'{len(scores)} names found')\n",
    "\n",
    "for name in names:\n",
    "    print(name.text)"
   ]
  },
  {
   "cell_type": "code",
   "execution_count": 10,
   "metadata": {},
   "outputs": [
    {
     "name": "stdout",
     "output_type": "stream",
     "text": [
      "USD\n",
      "USD\n",
      "USD\n",
      "USD\n",
      "USD\n",
      "USD\n",
      "USD\n",
      "USD\n"
     ]
    }
   ],
   "source": [
    "#get the whiskey price now\n",
    "\n",
    "price_int = chowder.find_all('span', itemprop = 'price')\n",
    "\n",
    "curr_unit = chowder.find_all('span', itemprop = 'priceCurrency')\n",
    "\n",
    "#note, the relevent information is stored in the 'content' field in both these cases\n",
    "for curr in curr_unit:\n",
    "    print(curr['content'])"
   ]
  },
  {
   "cell_type": "code",
   "execution_count": 11,
   "metadata": {},
   "outputs": [
    {
     "name": "stdout",
     "output_type": "stream",
     "text": [
      "American Malt Whiskey\n",
      "American Malt Whiskey\n",
      "American Malt Whiskey\n",
      "American Malt Whiskey\n",
      "American Malt Whiskey\n",
      "American Malt Whiskey\n",
      "American Malt Whiskey\n",
      "American Malt Whiskey\n"
     ]
    }
   ],
   "source": [
    "#get category designation\n",
    "\n",
    "cat_des = chowder.find_all('span', itemprop = 'category')\n",
    "\n",
    "for cat in cat_des:\n",
    "    print(cat.text)"
   ]
  },
  {
   "cell_type": "code",
   "execution_count": 12,
   "metadata": {},
   "outputs": [
    {
     "name": "stdout",
     "output_type": "stream",
     "text": [
      "8 blurbs found\n",
      "\n",
      "Floral with some hoppy aromas to start, as well as lemon curd, vanilla, banana Runts, ripe pears, and amaretto. On the palate, gentle oakiness underpins banana pudding, whipped cream, spiced plum, amaretto, ginger candy, peaches, and chai spices of cardamom, clove, and cinnamon. Well-structured and delicate—add water sparingly.\n"
     ]
    }
   ],
   "source": [
    "#get blurb\n",
    "\n",
    "blurb = chowder.find_all('div', class_ = 'review-text', itemprop = 'description')\n",
    "\n",
    "print(f'{len(blurb)} blurbs found')\n",
    "\n",
    "print(blurb[0].text)"
   ]
  },
  {
   "cell_type": "code",
   "execution_count": 13,
   "metadata": {},
   "outputs": [
    {
     "name": "stdout",
     "output_type": "stream",
     "text": [
      "Susannah Skiver Barton\n",
      "Susannah Skiver Barton\n",
      "David Fleming\n",
      "Jeffery Lindenmuth\n",
      "Susannah Skiver Barton\n",
      "John Hansell\n",
      "Lew Bryson\n",
      "Lew Bryson\n"
     ]
    }
   ],
   "source": [
    "#get reviewer\n",
    "\n",
    "reviewer = chowder.find_all('span', itemprop = 'author')\n",
    "\n",
    "for re in reviewer:\n",
    "    print(re.text)"
   ]
  },
  {
   "cell_type": "markdown",
   "metadata": {},
   "source": [
    "# Write the scrape_whisky Function"
   ]
  },
  {
   "cell_type": "code",
   "execution_count": 141,
   "metadata": {},
   "outputs": [
    {
     "name": "stdout",
     "output_type": "stream",
     "text": [
      "finished scrape 1\n",
      "list lengths: 8, 8, 8, 8, 8, 8, 8\n",
      "style id added: 68\n",
      "finished scrape 2\n",
      "list lengths: 58, 58, 58, 58, 58, 58, 58\n",
      "style id added: 15\n",
      "finished scrape 3\n",
      "list lengths: 46, 46, 46, 46, 46, 46, 46\n",
      "style id added: 31\n",
      "finished scrape 4\n",
      "list lengths: 11, 11, 11, 11, 11, 11, 11\n",
      "style id added: 52\n",
      "finished scrape 5\n",
      "list lengths: 9, 9, 9, 9, 9, 9, 9\n",
      "style id added: 27\n",
      "finished scrape 6\n",
      "list lengths: 1, 1, 1, 1, 1, 1, 1\n",
      "style id added: 53\n",
      "finished scrape 7\n",
      "list lengths: 33, 33, 33, 33, 33, 33, 33\n",
      "style id added: 42\n",
      "finished scrape 8\n",
      "list lengths: 1, 1, 1, 1, 1, 1, 1\n",
      "style id added: 57\n",
      "finished scrape 9\n",
      "list lengths: 3, 3, 3, 3, 3, 3, 3\n",
      "style id added: 55\n",
      "finished scrape 10\n",
      "list lengths: 9, 9, 9, 9, 9, 9, 9\n",
      "style id added: 67\n",
      "finished scrape 11\n",
      "list lengths: 115, 115, 115, 115, 115, 115, 115\n",
      "style id added: 17\n",
      "finished scrape 12\n",
      "list lengths: 2, 2, 2, 2, 2, 2, 2\n",
      "style id added: 69\n",
      "finished scrape 13\n",
      "list lengths: 190, 190, 190, 190, 190, 190, 190\n",
      "style id added: 3\n",
      "finished scrape 14\n",
      "list lengths: 294, 294, 294, 294, 294, 294, 294\n",
      "style id added: 4\n",
      "finished scrape 15\n",
      "list lengths: 879, 879, 879, 879, 879, 879, 879\n",
      "style id added: 7\n",
      "finished scrape 16\n",
      "list lengths: 276, 276, 276, 276, 276, 276, 276\n",
      "style id added: 10\n",
      "finished scrape 17\n",
      "list lengths: 5, 5, 5, 5, 5, 5, 5\n",
      "style id added: 63\n",
      "finished scrape 18\n",
      "list lengths: 358, 358, 358, 358, 358, 358, 358\n",
      "style id added: 40\n",
      "finished scrape 19\n",
      "list lengths: 14, 14, 14, 14, 14, 14, 14\n",
      "style id added: 49\n",
      "finished scrape 20\n",
      "list lengths: 10, 10, 10, 10, 10, 10, 10\n",
      "style id added: 48\n",
      "finished scrape 21\n",
      "list lengths: 5, 5, 5, 5, 5, 5, 5\n",
      "style id added: 47\n",
      "finished scrape 22\n",
      "list lengths: 3, 3, 3, 3, 3, 3, 3\n",
      "style id added: 44\n",
      "finished scrape 23\n",
      "list lengths: 66, 66, 66, 66, 66, 66, 66\n",
      "style id added: 41\n",
      "finished scrape 24\n",
      "list lengths: 51, 51, 51, 51, 51, 51, 51\n",
      "style id added: 28\n",
      "finished scrape 25\n",
      "list lengths: 5, 5, 5, 5, 5, 5, 5\n",
      "style id added: 60\n",
      "finished scrape 26\n",
      "list lengths: 50, 50, 50, 50, 50, 50, 50\n",
      "style id added: 19\n",
      "finished scrape 27\n",
      "list lengths: 107, 107, 107, 107, 107, 107, 107\n",
      "style id added: 8\n",
      "finished scrape 28\n",
      "list lengths: 78, 78, 78, 78, 78, 78, 78\n",
      "style id added: 65\n",
      "finished scrape 29\n",
      "list lengths: 53, 53, 53, 53, 53, 53, 53\n",
      "style id added: 37\n",
      "finished scrape 30\n",
      "list lengths: 6, 6, 6, 6, 6, 6, 6\n",
      "style id added: 46\n",
      "finished scrape 31\n",
      "list lengths: 0, 0, 0, 0, 0, 0, 0\n",
      "style id added: 71\n",
      "finished scrape 32\n",
      "list lengths: 13, 13, 13, 13, 13, 13, 13\n",
      "style id added: 72\n",
      "finished scrape 33\n",
      "list lengths: 9, 9, 9, 9, 9, 9, 9\n",
      "style id added: 70\n",
      "finished scrape 34\n",
      "list lengths: 128, 128, 128, 128, 128, 128, 128\n",
      "style id added: 11\n",
      "finished scrape 35\n",
      "list lengths: 4, 4, 4, 4, 4, 4, 4\n",
      "style id added: 50\n",
      "finished scrape 36\n",
      "list lengths: 1, 1, 1, 1, 1, 1, 1\n",
      "style id added: 73\n",
      "finished scrape 37\n",
      "list lengths: 32, 32, 32, 32, 32, 32, 32\n",
      "style id added: 45\n",
      "finished scrape 38\n",
      "list lengths: 18, 18, 18, 18, 18, 18, 18\n",
      "style id added: 62\n",
      "finished scrape 39\n",
      "list lengths: 1, 1, 1, 1, 1, 1, 1\n",
      "style id added: 26\n",
      "finished scrape 40\n",
      "list lengths: 11, 11, 11, 11, 11, 11, 11\n",
      "style id added: 9\n",
      "finished scrape 41\n",
      "list lengths: 1, 1, 1, 1, 1, 1, 1\n",
      "style id added: 56\n",
      "finished scrape 42\n",
      "list lengths: 275, 275, 275, 275, 275, 275, 275\n",
      "style id added: 5\n",
      "finished scrape 43\n",
      "list lengths: 1, 1, 1, 1, 1, 1, 1\n",
      "style id added: 58\n",
      "finished scrape 44\n",
      "list lengths: 9, 9, 9, 9, 9, 9, 9\n",
      "style id added: 20\n",
      "finished scrape 45\n",
      "list lengths: 108, 108, 108, 108, 108, 108, 108\n",
      "style id added: 64\n",
      "finished scrape 46\n",
      "list lengths: 94, 94, 94, 94, 94, 94, 94\n",
      "style id added: 18\n",
      "finished scrape 47\n",
      "list lengths: 2, 2, 2, 2, 2, 2, 2\n",
      "style id added: 21\n",
      "finished scrape 48\n",
      "list lengths: 34, 34, 34, 34, 34, 34, 34\n",
      "style id added: 23\n",
      "finished scrape 49\n",
      "list lengths: 5, 5, 5, 5, 5, 5, 5\n",
      "style id added: 61\n",
      "finished scrape 50\n",
      "list lengths: 9, 9, 9, 9, 9, 9, 9\n",
      "style id added: 59\n",
      "finished scrape 51\n",
      "list lengths: 2200, 2200, 2200, 2200, 2200, 2200, 2200\n",
      "style id added: 1\n",
      "finished scrape 52\n",
      "list lengths: 50, 50, 50, 50, 50, 50, 50\n",
      "style id added: 16\n",
      "finished scrape 53\n",
      "list lengths: 5, 5, 5, 5, 5, 5, 5\n",
      "style id added: 29\n",
      "finished scrape 54\n",
      "list lengths: 8, 8, 8, 8, 8, 8, 8\n",
      "style id added: 32\n",
      "finished scrape 55\n",
      "list lengths: 11, 11, 11, 11, 11, 11, 11\n",
      "style id added: 39\n",
      "finished scrape 56\n",
      "list lengths: 27, 27, 27, 27, 27, 27, 27\n",
      "style id added: 30\n",
      "finished scrape 57\n",
      "list lengths: 7, 7, 7, 7, 7, 7, 7\n",
      "style id added: 2\n",
      "finished scrape 58\n",
      "list lengths: 23, 23, 23, 23, 23, 23, 23\n",
      "style id added: 13\n",
      "finished scrape 59\n",
      "list lengths: 14, 14, 14, 14, 14, 14, 14\n",
      "style id added: 33\n",
      "finished scrape 60\n",
      "list lengths: 17, 17, 17, 17, 17, 17, 17\n",
      "style id added: 34\n",
      "finished scrape 61\n",
      "list lengths: 42, 42, 42, 42, 42, 42, 42\n",
      "style id added: 66\n",
      "finished scraping\n",
      "list lengths are: Names: 5905, Scores: 5905, Prices: 5905, \n",
      "          Currency: 5905, Category:5905, Reviews: 5905, Author: 5905\n"
     ]
    }
   ],
   "source": [
    "#the Scrape_whisky function is for iterating through all the differrent style options to compile a full dataset\n",
    "#the function should loop through all the styles of whisky\n",
    "\n",
    "import time\n",
    "\n",
    "def scrape_whisky(idArray):\n",
    "    \n",
    "    #set up lists for data from the site\n",
    "    whis_name = []\n",
    "    w_scores = []\n",
    "    price_val = []\n",
    "    price_curr = []\n",
    "    w_cat = []\n",
    "    reviews = []\n",
    "    authors = []\n",
    "    counter = 0\n",
    "    \n",
    "    #this for loop will be to loop through all the style designations\n",
    "    \n",
    "    for ids in idArray:\n",
    "        #set up url\n",
    "        loop_url = f'https://www.whiskyadvocate.com/ratings-reviews/?search=&submit=&brand_id=0&rating=0&price=0&category=0&styles_id={ids}&issue_id=0'\n",
    "        \n",
    "        #make the soup object\n",
    "        bisque = requests.get(loop_url)\n",
    "        lobster_bisque = bs(bisque.text)\n",
    "        \n",
    "        #scrape the data and loop through the scrapes, appending the relevant portions for each \n",
    "        nms = lobster_bisque.find_all('h1', itemprop = 'name')\n",
    "        \n",
    "        for n in nms:\n",
    "            whis_name.append(n.text)\n",
    "            \n",
    "        scrs = lobster_bisque.find_all('span', itemprop = 'ratingValue')\n",
    "        \n",
    "        for s in scrs:\n",
    "            w_scores.append(s.text)\n",
    "        \n",
    "        prc = lobster_bisque.find_all('span', itemprop = 'price')\n",
    "        \n",
    "        for p in prc:\n",
    "            price_val.append(p.text)\n",
    "        \n",
    "        crncy = lobster_bisque.find_all('span', itemprop = 'priceCurrency')\n",
    "        \n",
    "        for c in crncy:\n",
    "            price_curr.append(c['content'])\n",
    "        \n",
    "        ctgry = lobster_bisque.find_all('span', itemprop = 'category')\n",
    "        \n",
    "        for ct in ctgry:\n",
    "            w_cat.append(ct.text)\n",
    "        \n",
    "        rvw = lobster_bisque.find_all('div', class_ = 'review-text', itemprop = 'description')\n",
    "        \n",
    "        for r in rvw:\n",
    "            reviews.append(r.text)\n",
    "        \n",
    "        auts = lobster_bisque.find_all('span', itemprop = 'author')\n",
    "        \n",
    "        for au in auts:\n",
    "            authors.append(au.text)\n",
    "        \n",
    "        #feedback\n",
    "        counter += 1\n",
    "        print(f'finished scrape {counter}')\n",
    "        print(f'list lengths: {len(nms)}, {len(scrs)}, {len(prc)}, {len(crncy)}, {len(ctgry)}, {len(rvw)}, {len(auts)}')\n",
    "        print(f'style id added: {ids}')\n",
    "        \n",
    "        #sleep for a little while to aviod slamming their site with too many requests.\n",
    "        time.sleep(bisque.elapsed.total_seconds())\n",
    "    \n",
    "    #loop ends here: more feedback\n",
    "    print('finished scraping')\n",
    "    print(f'''list lengths are: Names: {len(whis_name)}, Scores: {len(w_scores)}, Prices: {len(price_val)}, \n",
    "          Currency: {len(price_curr)}, Category:{len(w_cat)}, Reviews: {len(reviews)}, Author: {len(authors)}''' )\n",
    "              \n",
    "    #package data into a dictionary\n",
    "    whisDict = {\n",
    "        'Name': whis_name, 'Score': w_scores, 'Price': price_val, 'Currency_unit': price_curr, 'Category': w_cat,\n",
    "        'Review': reviews, 'Author' : authors\n",
    "    }\n",
    "    \n",
    "    return whisDict\n",
    "\n",
    "\n",
    "W_dict = scrape_whisky(w_ids)    \n"
   ]
  },
  {
   "cell_type": "code",
   "execution_count": 173,
   "metadata": {},
   "outputs": [],
   "source": [
    "#try encoding the reviews in UTF-8 to fix character display bug\n",
    "#the important part of this is the utf-8-sig part the website was encoded in utf-8 and that's what bs4 and python were using\n",
    "#but excel was apparently having a hard time with that detal.\n",
    "\n",
    "\n",
    "dbg = W_dict['Review'].copy()\n",
    "\n",
    "dbg = [r.strip('\\n') for r in dbg]\n",
    "\n",
    "\n",
    "dbg_dict = {'text' : dbg}\n",
    "\n",
    "dbg_df = pd.DataFrame(dbg_dict)\n",
    "\n",
    "\n",
    "\n",
    "#dbg_df.iloc[0].to_csv('desktop/independant_projects/whiskey_data_scraper/test_rev.csv', index = False, encoding = 'utf-8-sig')"
   ]
  },
  {
   "cell_type": "code",
   "execution_count": 174,
   "metadata": {},
   "outputs": [
    {
     "data": {
      "text/html": [
       "<div>\n",
       "<style scoped>\n",
       "    .dataframe tbody tr th:only-of-type {\n",
       "        vertical-align: middle;\n",
       "    }\n",
       "\n",
       "    .dataframe tbody tr th {\n",
       "        vertical-align: top;\n",
       "    }\n",
       "\n",
       "    .dataframe thead th {\n",
       "        text-align: right;\n",
       "    }\n",
       "</style>\n",
       "<table border=\"1\" class=\"dataframe\">\n",
       "  <thead>\n",
       "    <tr style=\"text-align: right;\">\n",
       "      <th></th>\n",
       "      <th>Name</th>\n",
       "      <th>Score</th>\n",
       "      <th>Price</th>\n",
       "      <th>Currency_unit</th>\n",
       "      <th>Category</th>\n",
       "      <th>Review</th>\n",
       "      <th>Author</th>\n",
       "    </tr>\n",
       "  </thead>\n",
       "  <tbody>\n",
       "    <tr>\n",
       "      <th>0</th>\n",
       "      <td>Spirit Hound Single Barrel Straight Malt (Barr...</td>\n",
       "      <td>88</td>\n",
       "      <td>55</td>\n",
       "      <td>USD</td>\n",
       "      <td>American Malt Whiskey</td>\n",
       "      <td>\\nFloral with some hoppy aromas to start, as w...</td>\n",
       "      <td>Susannah Skiver Barton</td>\n",
       "    </tr>\n",
       "    <tr>\n",
       "      <th>1</th>\n",
       "      <td>Dogfish Head Straight Malt, 40%</td>\n",
       "      <td>87</td>\n",
       "      <td>40</td>\n",
       "      <td>USD</td>\n",
       "      <td>American Malt Whiskey</td>\n",
       "      <td>\\nLots of confectionary notes on the nose: ora...</td>\n",
       "      <td>Susannah Skiver Barton</td>\n",
       "    </tr>\n",
       "    <tr>\n",
       "      <th>2</th>\n",
       "      <td>Balcones Texas Bock Straight Malt Whiskey, 50%</td>\n",
       "      <td>87</td>\n",
       "      <td>40</td>\n",
       "      <td>USD</td>\n",
       "      <td>American Malt Whiskey</td>\n",
       "      <td>\\nBalcones has partnered with fellow Texan Spo...</td>\n",
       "      <td>David Fleming</td>\n",
       "    </tr>\n",
       "    <tr>\n",
       "      <th>3</th>\n",
       "      <td>Woodford Reserve Straight Malt Whiskey, 45.2%</td>\n",
       "      <td>86</td>\n",
       "      <td>35</td>\n",
       "      <td>USD</td>\n",
       "      <td>American Malt Whiskey</td>\n",
       "      <td>\\nThis malt whiskey shows some maple syrup and...</td>\n",
       "      <td>Jeffery Lindenmuth</td>\n",
       "    </tr>\n",
       "    <tr>\n",
       "      <th>4</th>\n",
       "      <td>Spirit Hound Colorado Honey Malt (Barrel No. 4...</td>\n",
       "      <td>85</td>\n",
       "      <td>65</td>\n",
       "      <td>USD</td>\n",
       "      <td>American Malt Whiskey</td>\n",
       "      <td>\\nStraight malt whiskey finished in barrels th...</td>\n",
       "      <td>Susannah Skiver Barton</td>\n",
       "    </tr>\n",
       "  </tbody>\n",
       "</table>\n",
       "</div>"
      ],
      "text/plain": [
       "                                                Name Score Price  \\\n",
       "0  Spirit Hound Single Barrel Straight Malt (Barr...    88    55   \n",
       "1                    Dogfish Head Straight Malt, 40%    87    40   \n",
       "2     Balcones Texas Bock Straight Malt Whiskey, 50%    87    40   \n",
       "3      Woodford Reserve Straight Malt Whiskey, 45.2%    86    35   \n",
       "4  Spirit Hound Colorado Honey Malt (Barrel No. 4...    85    65   \n",
       "\n",
       "  Currency_unit               Category  \\\n",
       "0           USD  American Malt Whiskey   \n",
       "1           USD  American Malt Whiskey   \n",
       "2           USD  American Malt Whiskey   \n",
       "3           USD  American Malt Whiskey   \n",
       "4           USD  American Malt Whiskey   \n",
       "\n",
       "                                              Review                  Author  \n",
       "0  \\nFloral with some hoppy aromas to start, as w...  Susannah Skiver Barton  \n",
       "1  \\nLots of confectionary notes on the nose: ora...  Susannah Skiver Barton  \n",
       "2  \\nBalcones has partnered with fellow Texan Spo...           David Fleming  \n",
       "3  \\nThis malt whiskey shows some maple syrup and...      Jeffery Lindenmuth  \n",
       "4  \\nStraight malt whiskey finished in barrels th...  Susannah Skiver Barton  "
      ]
     },
     "execution_count": 174,
     "metadata": {},
     "output_type": "execute_result"
    }
   ],
   "source": [
    "Whis_df = pd.DataFrame(W_dict)\n",
    "\n",
    "Whis_df.head()"
   ]
  },
  {
   "cell_type": "code",
   "execution_count": 175,
   "metadata": {},
   "outputs": [],
   "source": [
    "#write out the dataset as a csv for a convenient save point\n",
    "\n",
    "#Whis_df.to_csv('desktop/independant_projects/whiskey_data_scraper/rough_whiskey_data.csv')"
   ]
  },
  {
   "cell_type": "code",
   "execution_count": 176,
   "metadata": {},
   "outputs": [
    {
     "name": "stdout",
     "output_type": "stream",
     "text": [
      "\n",
      "Floral with some hoppy aromas to start, as well as lemon curd, vanilla, banana Runts, ripe pears, and amaretto. On the palate, gentle oakiness underpins banana pudding, whipped cream, spiced plum, amaretto, ginger candy, peaches, and chai spices of cardamom, clove, and cinnamon. Well-structured and delicate—add water sparingly.\n"
     ]
    }
   ],
   "source": [
    "print(W_dict['Review'][0])"
   ]
  },
  {
   "cell_type": "code",
   "execution_count": 177,
   "metadata": {},
   "outputs": [
    {
     "data": {
      "text/html": [
       "<div>\n",
       "<style scoped>\n",
       "    .dataframe tbody tr th:only-of-type {\n",
       "        vertical-align: middle;\n",
       "    }\n",
       "\n",
       "    .dataframe tbody tr th {\n",
       "        vertical-align: top;\n",
       "    }\n",
       "\n",
       "    .dataframe thead th {\n",
       "        text-align: right;\n",
       "    }\n",
       "</style>\n",
       "<table border=\"1\" class=\"dataframe\">\n",
       "  <thead>\n",
       "    <tr style=\"text-align: right;\">\n",
       "      <th></th>\n",
       "      <th>Name</th>\n",
       "      <th>Score</th>\n",
       "      <th>Price</th>\n",
       "      <th>Category</th>\n",
       "      <th>Review</th>\n",
       "      <th>Author</th>\n",
       "    </tr>\n",
       "    <tr>\n",
       "      <th>Currency_unit</th>\n",
       "      <th></th>\n",
       "      <th></th>\n",
       "      <th></th>\n",
       "      <th></th>\n",
       "      <th></th>\n",
       "      <th></th>\n",
       "    </tr>\n",
       "  </thead>\n",
       "  <tbody>\n",
       "    <tr>\n",
       "      <th>USD</th>\n",
       "      <td>5905</td>\n",
       "      <td>5905</td>\n",
       "      <td>5905</td>\n",
       "      <td>5905</td>\n",
       "      <td>5905</td>\n",
       "      <td>5905</td>\n",
       "    </tr>\n",
       "  </tbody>\n",
       "</table>\n",
       "</div>"
      ],
      "text/plain": [
       "               Name  Score  Price  Category  Review  Author\n",
       "Currency_unit                                              \n",
       "USD            5905   5905   5905      5905    5905    5905"
      ]
     },
     "execution_count": 177,
     "metadata": {},
     "output_type": "execute_result"
    }
   ],
   "source": [
    "#groupby currency to see if there is anything other than USD\n",
    "\n",
    "currency_chck = Whis_df.groupby('Currency_unit').count()\n",
    "\n",
    "currency_chck"
   ]
  },
  {
   "cell_type": "markdown",
   "metadata": {},
   "source": [
    "The Currency_unit column can be dropped: its all USD"
   ]
  },
  {
   "cell_type": "code",
   "execution_count": 178,
   "metadata": {},
   "outputs": [
    {
     "data": {
      "text/html": [
       "<div>\n",
       "<style scoped>\n",
       "    .dataframe tbody tr th:only-of-type {\n",
       "        vertical-align: middle;\n",
       "    }\n",
       "\n",
       "    .dataframe tbody tr th {\n",
       "        vertical-align: top;\n",
       "    }\n",
       "\n",
       "    .dataframe thead th {\n",
       "        text-align: right;\n",
       "    }\n",
       "</style>\n",
       "<table border=\"1\" class=\"dataframe\">\n",
       "  <thead>\n",
       "    <tr style=\"text-align: right;\">\n",
       "      <th></th>\n",
       "      <th>Name</th>\n",
       "      <th>Score</th>\n",
       "      <th>Price</th>\n",
       "      <th>Category</th>\n",
       "      <th>Review</th>\n",
       "      <th>Author</th>\n",
       "    </tr>\n",
       "  </thead>\n",
       "  <tbody>\n",
       "    <tr>\n",
       "      <th>0</th>\n",
       "      <td>Spirit Hound Single Barrel Straight Malt (Barr...</td>\n",
       "      <td>88</td>\n",
       "      <td>55</td>\n",
       "      <td>American Malt Whiskey</td>\n",
       "      <td>\\nFloral with some hoppy aromas to start, as w...</td>\n",
       "      <td>Susannah Skiver Barton</td>\n",
       "    </tr>\n",
       "    <tr>\n",
       "      <th>1</th>\n",
       "      <td>Dogfish Head Straight Malt, 40%</td>\n",
       "      <td>87</td>\n",
       "      <td>40</td>\n",
       "      <td>American Malt Whiskey</td>\n",
       "      <td>\\nLots of confectionary notes on the nose: ora...</td>\n",
       "      <td>Susannah Skiver Barton</td>\n",
       "    </tr>\n",
       "    <tr>\n",
       "      <th>2</th>\n",
       "      <td>Balcones Texas Bock Straight Malt Whiskey, 50%</td>\n",
       "      <td>87</td>\n",
       "      <td>40</td>\n",
       "      <td>American Malt Whiskey</td>\n",
       "      <td>\\nBalcones has partnered with fellow Texan Spo...</td>\n",
       "      <td>David Fleming</td>\n",
       "    </tr>\n",
       "    <tr>\n",
       "      <th>3</th>\n",
       "      <td>Woodford Reserve Straight Malt Whiskey, 45.2%</td>\n",
       "      <td>86</td>\n",
       "      <td>35</td>\n",
       "      <td>American Malt Whiskey</td>\n",
       "      <td>\\nThis malt whiskey shows some maple syrup and...</td>\n",
       "      <td>Jeffery Lindenmuth</td>\n",
       "    </tr>\n",
       "    <tr>\n",
       "      <th>4</th>\n",
       "      <td>Spirit Hound Colorado Honey Malt (Barrel No. 4...</td>\n",
       "      <td>85</td>\n",
       "      <td>65</td>\n",
       "      <td>American Malt Whiskey</td>\n",
       "      <td>\\nStraight malt whiskey finished in barrels th...</td>\n",
       "      <td>Susannah Skiver Barton</td>\n",
       "    </tr>\n",
       "  </tbody>\n",
       "</table>\n",
       "</div>"
      ],
      "text/plain": [
       "                                                Name Score Price  \\\n",
       "0  Spirit Hound Single Barrel Straight Malt (Barr...    88    55   \n",
       "1                    Dogfish Head Straight Malt, 40%    87    40   \n",
       "2     Balcones Texas Bock Straight Malt Whiskey, 50%    87    40   \n",
       "3      Woodford Reserve Straight Malt Whiskey, 45.2%    86    35   \n",
       "4  Spirit Hound Colorado Honey Malt (Barrel No. 4...    85    65   \n",
       "\n",
       "                Category                                             Review  \\\n",
       "0  American Malt Whiskey  \\nFloral with some hoppy aromas to start, as w...   \n",
       "1  American Malt Whiskey  \\nLots of confectionary notes on the nose: ora...   \n",
       "2  American Malt Whiskey  \\nBalcones has partnered with fellow Texan Spo...   \n",
       "3  American Malt Whiskey  \\nThis malt whiskey shows some maple syrup and...   \n",
       "4  American Malt Whiskey  \\nStraight malt whiskey finished in barrels th...   \n",
       "\n",
       "                   Author  \n",
       "0  Susannah Skiver Barton  \n",
       "1  Susannah Skiver Barton  \n",
       "2           David Fleming  \n",
       "3      Jeffery Lindenmuth  \n",
       "4  Susannah Skiver Barton  "
      ]
     },
     "execution_count": 178,
     "metadata": {},
     "output_type": "execute_result"
    }
   ],
   "source": [
    "Whis_df = Whis_df.drop(columns = ['Currency_unit'])\n",
    "\n",
    "Whis_df.head()"
   ]
  },
  {
   "cell_type": "code",
   "execution_count": 179,
   "metadata": {},
   "outputs": [
    {
     "data": {
      "text/html": [
       "<div>\n",
       "<style scoped>\n",
       "    .dataframe tbody tr th:only-of-type {\n",
       "        vertical-align: middle;\n",
       "    }\n",
       "\n",
       "    .dataframe tbody tr th {\n",
       "        vertical-align: top;\n",
       "    }\n",
       "\n",
       "    .dataframe thead th {\n",
       "        text-align: right;\n",
       "    }\n",
       "</style>\n",
       "<table border=\"1\" class=\"dataframe\">\n",
       "  <thead>\n",
       "    <tr style=\"text-align: right;\">\n",
       "      <th></th>\n",
       "      <th>Name</th>\n",
       "      <th>Score</th>\n",
       "      <th>Price_USD</th>\n",
       "      <th>Category</th>\n",
       "      <th>Review</th>\n",
       "      <th>Author</th>\n",
       "    </tr>\n",
       "  </thead>\n",
       "  <tbody>\n",
       "    <tr>\n",
       "      <th>0</th>\n",
       "      <td>Spirit Hound Single Barrel Straight Malt (Barr...</td>\n",
       "      <td>88</td>\n",
       "      <td>55</td>\n",
       "      <td>American Malt Whiskey</td>\n",
       "      <td>\\nFloral with some hoppy aromas to start, as w...</td>\n",
       "      <td>Susannah Skiver Barton</td>\n",
       "    </tr>\n",
       "    <tr>\n",
       "      <th>1</th>\n",
       "      <td>Dogfish Head Straight Malt, 40%</td>\n",
       "      <td>87</td>\n",
       "      <td>40</td>\n",
       "      <td>American Malt Whiskey</td>\n",
       "      <td>\\nLots of confectionary notes on the nose: ora...</td>\n",
       "      <td>Susannah Skiver Barton</td>\n",
       "    </tr>\n",
       "    <tr>\n",
       "      <th>2</th>\n",
       "      <td>Balcones Texas Bock Straight Malt Whiskey, 50%</td>\n",
       "      <td>87</td>\n",
       "      <td>40</td>\n",
       "      <td>American Malt Whiskey</td>\n",
       "      <td>\\nBalcones has partnered with fellow Texan Spo...</td>\n",
       "      <td>David Fleming</td>\n",
       "    </tr>\n",
       "    <tr>\n",
       "      <th>3</th>\n",
       "      <td>Woodford Reserve Straight Malt Whiskey, 45.2%</td>\n",
       "      <td>86</td>\n",
       "      <td>35</td>\n",
       "      <td>American Malt Whiskey</td>\n",
       "      <td>\\nThis malt whiskey shows some maple syrup and...</td>\n",
       "      <td>Jeffery Lindenmuth</td>\n",
       "    </tr>\n",
       "    <tr>\n",
       "      <th>4</th>\n",
       "      <td>Spirit Hound Colorado Honey Malt (Barrel No. 4...</td>\n",
       "      <td>85</td>\n",
       "      <td>65</td>\n",
       "      <td>American Malt Whiskey</td>\n",
       "      <td>\\nStraight malt whiskey finished in barrels th...</td>\n",
       "      <td>Susannah Skiver Barton</td>\n",
       "    </tr>\n",
       "  </tbody>\n",
       "</table>\n",
       "</div>"
      ],
      "text/plain": [
       "                                                Name Score Price_USD  \\\n",
       "0  Spirit Hound Single Barrel Straight Malt (Barr...    88        55   \n",
       "1                    Dogfish Head Straight Malt, 40%    87        40   \n",
       "2     Balcones Texas Bock Straight Malt Whiskey, 50%    87        40   \n",
       "3      Woodford Reserve Straight Malt Whiskey, 45.2%    86        35   \n",
       "4  Spirit Hound Colorado Honey Malt (Barrel No. 4...    85        65   \n",
       "\n",
       "                Category                                             Review  \\\n",
       "0  American Malt Whiskey  \\nFloral with some hoppy aromas to start, as w...   \n",
       "1  American Malt Whiskey  \\nLots of confectionary notes on the nose: ora...   \n",
       "2  American Malt Whiskey  \\nBalcones has partnered with fellow Texan Spo...   \n",
       "3  American Malt Whiskey  \\nThis malt whiskey shows some maple syrup and...   \n",
       "4  American Malt Whiskey  \\nStraight malt whiskey finished in barrels th...   \n",
       "\n",
       "                   Author  \n",
       "0  Susannah Skiver Barton  \n",
       "1  Susannah Skiver Barton  \n",
       "2           David Fleming  \n",
       "3      Jeffery Lindenmuth  \n",
       "4  Susannah Skiver Barton  "
      ]
     },
     "execution_count": 179,
     "metadata": {},
     "output_type": "execute_result"
    }
   ],
   "source": [
    "Whis_df = Whis_df.rename(columns = {'Price': 'Price_USD'})\n",
    "\n",
    "Whis_df.head()"
   ]
  },
  {
   "cell_type": "code",
   "execution_count": 180,
   "metadata": {},
   "outputs": [
    {
     "data": {
      "text/plain": [
       "Name         object\n",
       "Score        object\n",
       "Price_USD    object\n",
       "Category     object\n",
       "Review       object\n",
       "Author       object\n",
       "dtype: object"
      ]
     },
     "execution_count": 180,
     "metadata": {},
     "output_type": "execute_result"
    }
   ],
   "source": [
    "Whis_df.dtypes"
   ]
  },
  {
   "cell_type": "code",
   "execution_count": 181,
   "metadata": {},
   "outputs": [
    {
     "data": {
      "text/plain": [
       "Name         object\n",
       "Score         int64\n",
       "Price_USD    object\n",
       "Category     object\n",
       "Review       object\n",
       "Author       object\n",
       "dtype: object"
      ]
     },
     "execution_count": 181,
     "metadata": {},
     "output_type": "execute_result"
    }
   ],
   "source": [
    "Whis_df['Score'] = pd.to_numeric(Whis_df['Score'])\n",
    "\n",
    "Whis_df.dtypes"
   ]
  },
  {
   "cell_type": "code",
   "execution_count": 182,
   "metadata": {},
   "outputs": [
    {
     "data": {
      "text/html": [
       "<div>\n",
       "<style scoped>\n",
       "    .dataframe tbody tr th:only-of-type {\n",
       "        vertical-align: middle;\n",
       "    }\n",
       "\n",
       "    .dataframe tbody tr th {\n",
       "        vertical-align: top;\n",
       "    }\n",
       "\n",
       "    .dataframe thead th {\n",
       "        text-align: right;\n",
       "    }\n",
       "</style>\n",
       "<table border=\"1\" class=\"dataframe\">\n",
       "  <thead>\n",
       "    <tr style=\"text-align: right;\">\n",
       "      <th></th>\n",
       "      <th>Name</th>\n",
       "      <th>Score</th>\n",
       "      <th>Category</th>\n",
       "      <th>Review</th>\n",
       "      <th>Author</th>\n",
       "    </tr>\n",
       "    <tr>\n",
       "      <th>Price_USD</th>\n",
       "      <th></th>\n",
       "      <th></th>\n",
       "      <th></th>\n",
       "      <th></th>\n",
       "      <th></th>\n",
       "    </tr>\n",
       "  </thead>\n",
       "  <tbody>\n",
       "    <tr>\n",
       "      <th>$130</th>\n",
       "      <td>1</td>\n",
       "      <td>1</td>\n",
       "      <td>1</td>\n",
       "      <td>1</td>\n",
       "      <td>1</td>\n",
       "    </tr>\n",
       "    <tr>\n",
       "      <th>1,000</th>\n",
       "      <td>2</td>\n",
       "      <td>2</td>\n",
       "      <td>2</td>\n",
       "      <td>2</td>\n",
       "      <td>2</td>\n",
       "    </tr>\n",
       "    <tr>\n",
       "      <th>1,008</th>\n",
       "      <td>1</td>\n",
       "      <td>1</td>\n",
       "      <td>1</td>\n",
       "      <td>1</td>\n",
       "      <td>1</td>\n",
       "    </tr>\n",
       "    <tr>\n",
       "      <th>1,052</th>\n",
       "      <td>1</td>\n",
       "      <td>1</td>\n",
       "      <td>1</td>\n",
       "      <td>1</td>\n",
       "      <td>1</td>\n",
       "    </tr>\n",
       "    <tr>\n",
       "      <th>1,058</th>\n",
       "      <td>1</td>\n",
       "      <td>1</td>\n",
       "      <td>1</td>\n",
       "      <td>1</td>\n",
       "      <td>1</td>\n",
       "    </tr>\n",
       "    <tr>\n",
       "      <th>...</th>\n",
       "      <td>...</td>\n",
       "      <td>...</td>\n",
       "      <td>...</td>\n",
       "      <td>...</td>\n",
       "      <td>...</td>\n",
       "    </tr>\n",
       "    <tr>\n",
       "      <th>98.00</th>\n",
       "      <td>3</td>\n",
       "      <td>3</td>\n",
       "      <td>3</td>\n",
       "      <td>3</td>\n",
       "      <td>3</td>\n",
       "    </tr>\n",
       "    <tr>\n",
       "      <th>989</th>\n",
       "      <td>2</td>\n",
       "      <td>2</td>\n",
       "      <td>2</td>\n",
       "      <td>2</td>\n",
       "      <td>2</td>\n",
       "    </tr>\n",
       "    <tr>\n",
       "      <th>99</th>\n",
       "      <td>39</td>\n",
       "      <td>39</td>\n",
       "      <td>39</td>\n",
       "      <td>39</td>\n",
       "      <td>39</td>\n",
       "    </tr>\n",
       "    <tr>\n",
       "      <th>99.00</th>\n",
       "      <td>2</td>\n",
       "      <td>2</td>\n",
       "      <td>2</td>\n",
       "      <td>2</td>\n",
       "      <td>2</td>\n",
       "    </tr>\n",
       "    <tr>\n",
       "      <th>995.00</th>\n",
       "      <td>1</td>\n",
       "      <td>1</td>\n",
       "      <td>1</td>\n",
       "      <td>1</td>\n",
       "      <td>1</td>\n",
       "    </tr>\n",
       "  </tbody>\n",
       "</table>\n",
       "<p>758 rows × 5 columns</p>\n",
       "</div>"
      ],
      "text/plain": [
       "           Name  Score  Category  Review  Author\n",
       "Price_USD                                       \n",
       "$130          1      1         1       1       1\n",
       "1,000         2      2         2       2       2\n",
       "1,008         1      1         1       1       1\n",
       "1,052         1      1         1       1       1\n",
       "1,058         1      1         1       1       1\n",
       "...         ...    ...       ...     ...     ...\n",
       "98.00         3      3         3       3       3\n",
       "989           2      2         2       2       2\n",
       "99           39     39        39      39      39\n",
       "99.00         2      2         2       2       2\n",
       "995.00        1      1         1       1       1\n",
       "\n",
       "[758 rows x 5 columns]"
      ]
     },
     "execution_count": 182,
     "metadata": {},
     "output_type": "execute_result"
    }
   ],
   "source": [
    "#Grouping by Price, to check for problem values since I couldn't retype price\n",
    "\n",
    "prc_chk = Whis_df.groupby('Price_USD').count()\n",
    "\n",
    "prc_chk"
   ]
  },
  {
   "cell_type": "markdown",
   "metadata": {},
   "source": [
    "Things to do with the price column:\n",
    "\n",
    "- Remove dollar signs and commas.\n",
    "\n",
    "- split off a new column using / as a delimiter - This is being used in cases when the amount of whisky isn't 750 ml.\n",
    "\n",
    "- numericize the column.\n",
    "\n",
    "When the new column is made I can replace NaN values with 750 and drop whiskeys sold as a set, or do something else with them. \n",
    "The name column also needs to be split to remove alcohol percentage to a new column. I will also have to put up with NaN values \n",
    "in that column. "
   ]
  },
  {
   "cell_type": "code",
   "execution_count": 183,
   "metadata": {},
   "outputs": [
    {
     "data": {
      "text/html": [
       "<div>\n",
       "<style scoped>\n",
       "    .dataframe tbody tr th:only-of-type {\n",
       "        vertical-align: middle;\n",
       "    }\n",
       "\n",
       "    .dataframe tbody tr th {\n",
       "        vertical-align: top;\n",
       "    }\n",
       "\n",
       "    .dataframe thead th {\n",
       "        text-align: right;\n",
       "    }\n",
       "</style>\n",
       "<table border=\"1\" class=\"dataframe\">\n",
       "  <thead>\n",
       "    <tr style=\"text-align: right;\">\n",
       "      <th></th>\n",
       "      <th>Name</th>\n",
       "      <th>Score</th>\n",
       "      <th>Category</th>\n",
       "      <th>Review</th>\n",
       "      <th>Author</th>\n",
       "    </tr>\n",
       "    <tr>\n",
       "      <th>Price_USD</th>\n",
       "      <th></th>\n",
       "      <th></th>\n",
       "      <th></th>\n",
       "      <th></th>\n",
       "      <th></th>\n",
       "    </tr>\n",
       "  </thead>\n",
       "  <tbody>\n",
       "    <tr>\n",
       "      <th>10</th>\n",
       "      <td>7</td>\n",
       "      <td>7</td>\n",
       "      <td>7</td>\n",
       "      <td>7</td>\n",
       "      <td>7</td>\n",
       "    </tr>\n",
       "    <tr>\n",
       "      <th>10.00</th>\n",
       "      <td>1</td>\n",
       "      <td>1</td>\n",
       "      <td>1</td>\n",
       "      <td>1</td>\n",
       "      <td>1</td>\n",
       "    </tr>\n",
       "    <tr>\n",
       "      <th>100</th>\n",
       "      <td>184</td>\n",
       "      <td>184</td>\n",
       "      <td>184</td>\n",
       "      <td>184</td>\n",
       "      <td>184</td>\n",
       "    </tr>\n",
       "    <tr>\n",
       "      <th>100.00</th>\n",
       "      <td>41</td>\n",
       "      <td>41</td>\n",
       "      <td>41</td>\n",
       "      <td>41</td>\n",
       "      <td>41</td>\n",
       "    </tr>\n",
       "    <tr>\n",
       "      <th>100/375ml.</th>\n",
       "      <td>1</td>\n",
       "      <td>1</td>\n",
       "      <td>1</td>\n",
       "      <td>1</td>\n",
       "      <td>1</td>\n",
       "    </tr>\n",
       "    <tr>\n",
       "      <th>...</th>\n",
       "      <td>...</td>\n",
       "      <td>...</td>\n",
       "      <td>...</td>\n",
       "      <td>...</td>\n",
       "      <td>...</td>\n",
       "    </tr>\n",
       "    <tr>\n",
       "      <th>98.00</th>\n",
       "      <td>3</td>\n",
       "      <td>3</td>\n",
       "      <td>3</td>\n",
       "      <td>3</td>\n",
       "      <td>3</td>\n",
       "    </tr>\n",
       "    <tr>\n",
       "      <th>989</th>\n",
       "      <td>2</td>\n",
       "      <td>2</td>\n",
       "      <td>2</td>\n",
       "      <td>2</td>\n",
       "      <td>2</td>\n",
       "    </tr>\n",
       "    <tr>\n",
       "      <th>99</th>\n",
       "      <td>39</td>\n",
       "      <td>39</td>\n",
       "      <td>39</td>\n",
       "      <td>39</td>\n",
       "      <td>39</td>\n",
       "    </tr>\n",
       "    <tr>\n",
       "      <th>99.00</th>\n",
       "      <td>2</td>\n",
       "      <td>2</td>\n",
       "      <td>2</td>\n",
       "      <td>2</td>\n",
       "      <td>2</td>\n",
       "    </tr>\n",
       "    <tr>\n",
       "      <th>995.00</th>\n",
       "      <td>1</td>\n",
       "      <td>1</td>\n",
       "      <td>1</td>\n",
       "      <td>1</td>\n",
       "      <td>1</td>\n",
       "    </tr>\n",
       "  </tbody>\n",
       "</table>\n",
       "<p>743 rows × 5 columns</p>\n",
       "</div>"
      ],
      "text/plain": [
       "            Name  Score  Category  Review  Author\n",
       "Price_USD                                        \n",
       "10             7      7         7       7       7\n",
       "10.00          1      1         1       1       1\n",
       "100          184    184       184     184     184\n",
       "100.00        41     41        41      41      41\n",
       "100/375ml.     1      1         1       1       1\n",
       "...          ...    ...       ...     ...     ...\n",
       "98.00          3      3         3       3       3\n",
       "989            2      2         2       2       2\n",
       "99            39     39        39      39      39\n",
       "99.00          2      2         2       2       2\n",
       "995.00         1      1         1       1       1\n",
       "\n",
       "[743 rows x 5 columns]"
      ]
     },
     "execution_count": 183,
     "metadata": {},
     "output_type": "execute_result"
    }
   ],
   "source": [
    "#get rid of $ sign and comma\n",
    "\n",
    "Whis_df['Price_USD'] = Whis_df['Price_USD'].str.replace('$', '')\n",
    "Whis_df['Price_USD'] = Whis_df['Price_USD'].str.replace(',', '')\n",
    "prc_chk = Whis_df.groupby('Price_USD').count()\n",
    "\n",
    "prc_chk"
   ]
  },
  {
   "cell_type": "code",
   "execution_count": 184,
   "metadata": {},
   "outputs": [
    {
     "data": {
      "text/html": [
       "<div>\n",
       "<style scoped>\n",
       "    .dataframe tbody tr th:only-of-type {\n",
       "        vertical-align: middle;\n",
       "    }\n",
       "\n",
       "    .dataframe tbody tr th {\n",
       "        vertical-align: top;\n",
       "    }\n",
       "\n",
       "    .dataframe thead th {\n",
       "        text-align: right;\n",
       "    }\n",
       "</style>\n",
       "<table border=\"1\" class=\"dataframe\">\n",
       "  <thead>\n",
       "    <tr style=\"text-align: right;\">\n",
       "      <th></th>\n",
       "      <th>Name</th>\n",
       "      <th>Score</th>\n",
       "      <th>Price_USD</th>\n",
       "      <th>Category</th>\n",
       "      <th>Review</th>\n",
       "      <th>Author</th>\n",
       "      <th>Sale_volume</th>\n",
       "    </tr>\n",
       "  </thead>\n",
       "  <tbody>\n",
       "    <tr>\n",
       "      <th>0</th>\n",
       "      <td>Spirit Hound Single Barrel Straight Malt (Barr...</td>\n",
       "      <td>88</td>\n",
       "      <td>55</td>\n",
       "      <td>American Malt Whiskey</td>\n",
       "      <td>\\nFloral with some hoppy aromas to start, as w...</td>\n",
       "      <td>Susannah Skiver Barton</td>\n",
       "      <td>750</td>\n",
       "    </tr>\n",
       "    <tr>\n",
       "      <th>1</th>\n",
       "      <td>Dogfish Head Straight Malt, 40%</td>\n",
       "      <td>87</td>\n",
       "      <td>40</td>\n",
       "      <td>American Malt Whiskey</td>\n",
       "      <td>\\nLots of confectionary notes on the nose: ora...</td>\n",
       "      <td>Susannah Skiver Barton</td>\n",
       "      <td>750</td>\n",
       "    </tr>\n",
       "    <tr>\n",
       "      <th>2</th>\n",
       "      <td>Balcones Texas Bock Straight Malt Whiskey, 50%</td>\n",
       "      <td>87</td>\n",
       "      <td>40</td>\n",
       "      <td>American Malt Whiskey</td>\n",
       "      <td>\\nBalcones has partnered with fellow Texan Spo...</td>\n",
       "      <td>David Fleming</td>\n",
       "      <td>750</td>\n",
       "    </tr>\n",
       "    <tr>\n",
       "      <th>3</th>\n",
       "      <td>Woodford Reserve Straight Malt Whiskey, 45.2%</td>\n",
       "      <td>86</td>\n",
       "      <td>35</td>\n",
       "      <td>American Malt Whiskey</td>\n",
       "      <td>\\nThis malt whiskey shows some maple syrup and...</td>\n",
       "      <td>Jeffery Lindenmuth</td>\n",
       "      <td>750</td>\n",
       "    </tr>\n",
       "    <tr>\n",
       "      <th>4</th>\n",
       "      <td>Spirit Hound Colorado Honey Malt (Barrel No. 4...</td>\n",
       "      <td>85</td>\n",
       "      <td>65</td>\n",
       "      <td>American Malt Whiskey</td>\n",
       "      <td>\\nStraight malt whiskey finished in barrels th...</td>\n",
       "      <td>Susannah Skiver Barton</td>\n",
       "      <td>750</td>\n",
       "    </tr>\n",
       "  </tbody>\n",
       "</table>\n",
       "</div>"
      ],
      "text/plain": [
       "                                                Name  Score Price_USD  \\\n",
       "0  Spirit Hound Single Barrel Straight Malt (Barr...     88        55   \n",
       "1                    Dogfish Head Straight Malt, 40%     87        40   \n",
       "2     Balcones Texas Bock Straight Malt Whiskey, 50%     87        40   \n",
       "3      Woodford Reserve Straight Malt Whiskey, 45.2%     86        35   \n",
       "4  Spirit Hound Colorado Honey Malt (Barrel No. 4...     85        65   \n",
       "\n",
       "                Category                                             Review  \\\n",
       "0  American Malt Whiskey  \\nFloral with some hoppy aromas to start, as w...   \n",
       "1  American Malt Whiskey  \\nLots of confectionary notes on the nose: ora...   \n",
       "2  American Malt Whiskey  \\nBalcones has partnered with fellow Texan Spo...   \n",
       "3  American Malt Whiskey  \\nThis malt whiskey shows some maple syrup and...   \n",
       "4  American Malt Whiskey  \\nStraight malt whiskey finished in barrels th...   \n",
       "\n",
       "                   Author Sale_volume  \n",
       "0  Susannah Skiver Barton         750  \n",
       "1  Susannah Skiver Barton         750  \n",
       "2           David Fleming         750  \n",
       "3      Jeffery Lindenmuth         750  \n",
       "4  Susannah Skiver Barton         750  "
      ]
     },
     "execution_count": 184,
     "metadata": {},
     "output_type": "execute_result"
    }
   ],
   "source": [
    "#split the price column with / as the delimiter\n",
    "\n",
    "pr_list = Whis_df['Price_USD'].to_list()\n",
    "clean_price = []\n",
    "volume = []\n",
    "\n",
    "for pr in pr_list:\n",
    "    split_list = pr.split('/')\n",
    "    clean_price.append(split_list[0])\n",
    "    try:\n",
    "        volume.append(split_list[1])\n",
    "    except:\n",
    "        volume.append(750)\n",
    "\n",
    "Whis_df['Price_USD'] = clean_price\n",
    "\n",
    "Whis_df['Sale_volume'] = volume\n",
    "\n",
    "Whis_df.head()\n",
    "    "
   ]
  },
  {
   "cell_type": "code",
   "execution_count": 185,
   "metadata": {},
   "outputs": [
    {
     "data": {
      "text/plain": [
       "Name                        The Balvenie 1973 43 year old, 46.6%\n",
       "Score                                                         95\n",
       "Price_USD                                         15000 or 60000\n",
       "Category                                      Single Malt Scotch\n",
       "Review         \\nThis expression was matured in a European oa...\n",
       "Author                                               Gavin Smith\n",
       "Sale_volume                                                  set\n",
       "Name: 3527, dtype: object"
      ]
     },
     "execution_count": 185,
     "metadata": {},
     "output_type": "execute_result"
    }
   ],
   "source": [
    "#I tried to set the value to numeric, it tripped up on line 3527\n",
    "# I can't use this because the price is uncertain\n",
    "Whis_df.iloc[3527]"
   ]
  },
  {
   "cell_type": "code",
   "execution_count": 186,
   "metadata": {},
   "outputs": [
    {
     "data": {
      "text/plain": [
       "Name                           Glenglassaugh, 40 year old, 44.6%\n",
       "Score                                                         95\n",
       "Price_USD                                                2525.00\n",
       "Category                                      Single Malt Scotch\n",
       "Review         \\nAn excellent example of an ultra-mature, she...\n",
       "Author                                              John Hansell\n",
       "Sale_volume                                                  750\n",
       "Name: 3528, dtype: object"
      ]
     },
     "execution_count": 186,
     "metadata": {},
     "output_type": "execute_result"
    }
   ],
   "source": [
    "#drop this row and confirm the drop\n",
    "Whis_df = Whis_df.drop([3527])\n",
    "\n",
    "Whis_df.iloc[3527]"
   ]
  },
  {
   "cell_type": "code",
   "execution_count": 187,
   "metadata": {},
   "outputs": [
    {
     "data": {
      "text/plain": [
       "Name            object\n",
       "Score            int64\n",
       "Price_USD      float64\n",
       "Category        object\n",
       "Review          object\n",
       "Author          object\n",
       "Sale_volume     object\n",
       "dtype: object"
      ]
     },
     "execution_count": 187,
     "metadata": {},
     "output_type": "execute_result"
    }
   ],
   "source": [
    "#retry the datatype reassignment\n",
    "\n",
    "Whis_df['Price_USD'] = pd.to_numeric(Whis_df['Price_USD'])\n",
    "\n",
    "Whis_df.dtypes"
   ]
  },
  {
   "cell_type": "code",
   "execution_count": 188,
   "metadata": {},
   "outputs": [
    {
     "data": {
      "text/html": [
       "<div>\n",
       "<style scoped>\n",
       "    .dataframe tbody tr th:only-of-type {\n",
       "        vertical-align: middle;\n",
       "    }\n",
       "\n",
       "    .dataframe tbody tr th {\n",
       "        vertical-align: top;\n",
       "    }\n",
       "\n",
       "    .dataframe thead th {\n",
       "        text-align: right;\n",
       "    }\n",
       "</style>\n",
       "<table border=\"1\" class=\"dataframe\">\n",
       "  <thead>\n",
       "    <tr style=\"text-align: right;\">\n",
       "      <th></th>\n",
       "      <th>Name</th>\n",
       "      <th>Score</th>\n",
       "      <th>Price_USD</th>\n",
       "      <th>Category</th>\n",
       "      <th>Review</th>\n",
       "      <th>Author</th>\n",
       "      <th>Sale_volume</th>\n",
       "      <th>Percent_ABV</th>\n",
       "    </tr>\n",
       "  </thead>\n",
       "  <tbody>\n",
       "    <tr>\n",
       "      <th>0</th>\n",
       "      <td>Spirit Hound Single Barrel Straight Malt (Barr...</td>\n",
       "      <td>88</td>\n",
       "      <td>55.0</td>\n",
       "      <td>American Malt Whiskey</td>\n",
       "      <td>\\nFloral with some hoppy aromas to start, as w...</td>\n",
       "      <td>Susannah Skiver Barton</td>\n",
       "      <td>750</td>\n",
       "      <td>45%</td>\n",
       "    </tr>\n",
       "    <tr>\n",
       "      <th>1</th>\n",
       "      <td>Dogfish Head Straight Malt, 40%</td>\n",
       "      <td>87</td>\n",
       "      <td>40.0</td>\n",
       "      <td>American Malt Whiskey</td>\n",
       "      <td>\\nLots of confectionary notes on the nose: ora...</td>\n",
       "      <td>Susannah Skiver Barton</td>\n",
       "      <td>750</td>\n",
       "      <td>40%</td>\n",
       "    </tr>\n",
       "    <tr>\n",
       "      <th>2</th>\n",
       "      <td>Balcones Texas Bock Straight Malt Whiskey, 50%</td>\n",
       "      <td>87</td>\n",
       "      <td>40.0</td>\n",
       "      <td>American Malt Whiskey</td>\n",
       "      <td>\\nBalcones has partnered with fellow Texan Spo...</td>\n",
       "      <td>David Fleming</td>\n",
       "      <td>750</td>\n",
       "      <td>50%</td>\n",
       "    </tr>\n",
       "    <tr>\n",
       "      <th>3</th>\n",
       "      <td>Woodford Reserve Straight Malt Whiskey, 45.2%</td>\n",
       "      <td>86</td>\n",
       "      <td>35.0</td>\n",
       "      <td>American Malt Whiskey</td>\n",
       "      <td>\\nThis malt whiskey shows some maple syrup and...</td>\n",
       "      <td>Jeffery Lindenmuth</td>\n",
       "      <td>750</td>\n",
       "      <td>45.2%</td>\n",
       "    </tr>\n",
       "    <tr>\n",
       "      <th>4</th>\n",
       "      <td>Spirit Hound Colorado Honey Malt (Barrel No. 4...</td>\n",
       "      <td>85</td>\n",
       "      <td>65.0</td>\n",
       "      <td>American Malt Whiskey</td>\n",
       "      <td>\\nStraight malt whiskey finished in barrels th...</td>\n",
       "      <td>Susannah Skiver Barton</td>\n",
       "      <td>750</td>\n",
       "      <td>45%</td>\n",
       "    </tr>\n",
       "  </tbody>\n",
       "</table>\n",
       "</div>"
      ],
      "text/plain": [
       "                                                Name  Score  Price_USD  \\\n",
       "0  Spirit Hound Single Barrel Straight Malt (Barr...     88       55.0   \n",
       "1                    Dogfish Head Straight Malt, 40%     87       40.0   \n",
       "2     Balcones Texas Bock Straight Malt Whiskey, 50%     87       40.0   \n",
       "3      Woodford Reserve Straight Malt Whiskey, 45.2%     86       35.0   \n",
       "4  Spirit Hound Colorado Honey Malt (Barrel No. 4...     85       65.0   \n",
       "\n",
       "                Category                                             Review  \\\n",
       "0  American Malt Whiskey  \\nFloral with some hoppy aromas to start, as w...   \n",
       "1  American Malt Whiskey  \\nLots of confectionary notes on the nose: ora...   \n",
       "2  American Malt Whiskey  \\nBalcones has partnered with fellow Texan Spo...   \n",
       "3  American Malt Whiskey  \\nThis malt whiskey shows some maple syrup and...   \n",
       "4  American Malt Whiskey  \\nStraight malt whiskey finished in barrels th...   \n",
       "\n",
       "                   Author Sale_volume Percent_ABV  \n",
       "0  Susannah Skiver Barton         750         45%  \n",
       "1  Susannah Skiver Barton         750         40%  \n",
       "2           David Fleming         750         50%  \n",
       "3      Jeffery Lindenmuth         750       45.2%  \n",
       "4  Susannah Skiver Barton         750         45%  "
      ]
     },
     "execution_count": 188,
     "metadata": {},
     "output_type": "execute_result"
    }
   ],
   "source": [
    "# Split out ABV\n",
    "# In cases where ABV is unknown, I will assume it is 40% which is the modal value for hard liquor\n",
    "\n",
    "name_list = Whis_df['Name'].to_list()\n",
    "\n",
    "whis_names = []\n",
    "abv = []\n",
    "\n",
    "for name in name_list:\n",
    "    nl = name.split(',')\n",
    "    whis_names.append(nl[0])\n",
    "    try:\n",
    "        abv.append(nl[-1].strip())\n",
    "    except:\n",
    "        abv.append(40)\n",
    "\n",
    "#Whis_df['Name'] = whis_names\n",
    "\n",
    "Whis_df['Percent_ABV'] = abv\n",
    "\n",
    "Whis_df.head()"
   ]
  },
  {
   "cell_type": "code",
   "execution_count": 189,
   "metadata": {},
   "outputs": [
    {
     "data": {
      "text/html": [
       "<div>\n",
       "<style scoped>\n",
       "    .dataframe tbody tr th:only-of-type {\n",
       "        vertical-align: middle;\n",
       "    }\n",
       "\n",
       "    .dataframe tbody tr th {\n",
       "        vertical-align: top;\n",
       "    }\n",
       "\n",
       "    .dataframe thead th {\n",
       "        text-align: right;\n",
       "    }\n",
       "</style>\n",
       "<table border=\"1\" class=\"dataframe\">\n",
       "  <thead>\n",
       "    <tr style=\"text-align: right;\">\n",
       "      <th></th>\n",
       "      <th>Name</th>\n",
       "      <th>Score</th>\n",
       "      <th>Price_USD</th>\n",
       "      <th>Category</th>\n",
       "      <th>Review</th>\n",
       "      <th>Author</th>\n",
       "      <th>Sale_volume</th>\n",
       "      <th>Percent_ABV</th>\n",
       "    </tr>\n",
       "  </thead>\n",
       "  <tbody>\n",
       "    <tr>\n",
       "      <th>0</th>\n",
       "      <td>Spirit Hound Single Barrel Straight Malt (Barr...</td>\n",
       "      <td>88</td>\n",
       "      <td>55.0</td>\n",
       "      <td>American Malt Whiskey</td>\n",
       "      <td>\\nFloral with some hoppy aromas to start, as w...</td>\n",
       "      <td>Susannah Skiver Barton</td>\n",
       "      <td>750</td>\n",
       "      <td>45</td>\n",
       "    </tr>\n",
       "    <tr>\n",
       "      <th>1</th>\n",
       "      <td>Dogfish Head Straight Malt, 40%</td>\n",
       "      <td>87</td>\n",
       "      <td>40.0</td>\n",
       "      <td>American Malt Whiskey</td>\n",
       "      <td>\\nLots of confectionary notes on the nose: ora...</td>\n",
       "      <td>Susannah Skiver Barton</td>\n",
       "      <td>750</td>\n",
       "      <td>40</td>\n",
       "    </tr>\n",
       "    <tr>\n",
       "      <th>2</th>\n",
       "      <td>Balcones Texas Bock Straight Malt Whiskey, 50%</td>\n",
       "      <td>87</td>\n",
       "      <td>40.0</td>\n",
       "      <td>American Malt Whiskey</td>\n",
       "      <td>\\nBalcones has partnered with fellow Texan Spo...</td>\n",
       "      <td>David Fleming</td>\n",
       "      <td>750</td>\n",
       "      <td>50</td>\n",
       "    </tr>\n",
       "    <tr>\n",
       "      <th>3</th>\n",
       "      <td>Woodford Reserve Straight Malt Whiskey, 45.2%</td>\n",
       "      <td>86</td>\n",
       "      <td>35.0</td>\n",
       "      <td>American Malt Whiskey</td>\n",
       "      <td>\\nThis malt whiskey shows some maple syrup and...</td>\n",
       "      <td>Jeffery Lindenmuth</td>\n",
       "      <td>750</td>\n",
       "      <td>45.2</td>\n",
       "    </tr>\n",
       "    <tr>\n",
       "      <th>4</th>\n",
       "      <td>Spirit Hound Colorado Honey Malt (Barrel No. 4...</td>\n",
       "      <td>85</td>\n",
       "      <td>65.0</td>\n",
       "      <td>American Malt Whiskey</td>\n",
       "      <td>\\nStraight malt whiskey finished in barrels th...</td>\n",
       "      <td>Susannah Skiver Barton</td>\n",
       "      <td>750</td>\n",
       "      <td>45</td>\n",
       "    </tr>\n",
       "  </tbody>\n",
       "</table>\n",
       "</div>"
      ],
      "text/plain": [
       "                                                Name  Score  Price_USD  \\\n",
       "0  Spirit Hound Single Barrel Straight Malt (Barr...     88       55.0   \n",
       "1                    Dogfish Head Straight Malt, 40%     87       40.0   \n",
       "2     Balcones Texas Bock Straight Malt Whiskey, 50%     87       40.0   \n",
       "3      Woodford Reserve Straight Malt Whiskey, 45.2%     86       35.0   \n",
       "4  Spirit Hound Colorado Honey Malt (Barrel No. 4...     85       65.0   \n",
       "\n",
       "                Category                                             Review  \\\n",
       "0  American Malt Whiskey  \\nFloral with some hoppy aromas to start, as w...   \n",
       "1  American Malt Whiskey  \\nLots of confectionary notes on the nose: ora...   \n",
       "2  American Malt Whiskey  \\nBalcones has partnered with fellow Texan Spo...   \n",
       "3  American Malt Whiskey  \\nThis malt whiskey shows some maple syrup and...   \n",
       "4  American Malt Whiskey  \\nStraight malt whiskey finished in barrels th...   \n",
       "\n",
       "                   Author Sale_volume Percent_ABV  \n",
       "0  Susannah Skiver Barton         750          45  \n",
       "1  Susannah Skiver Barton         750          40  \n",
       "2           David Fleming         750          50  \n",
       "3      Jeffery Lindenmuth         750        45.2  \n",
       "4  Susannah Skiver Barton         750          45  "
      ]
     },
     "execution_count": 189,
     "metadata": {},
     "output_type": "execute_result"
    }
   ],
   "source": [
    "#Get rid of the percent signs in the ABV column\n",
    "\n",
    "Whis_df['Percent_ABV'] = Whis_df['Percent_ABV'].str.replace('%', '')\n",
    "\n",
    "Whis_df.head()"
   ]
  },
  {
   "cell_type": "markdown",
   "metadata": {},
   "source": [
    "Basic procedure from here and below: I find an error where the last comma doesn't cleanly lead to a number representing ABV, and I make a change to the value. I run the iloc value first and then insert the change above it to save space. A lot of the time these are quotation marks getting pulled into the ABV value becuase of illogical English punctuation rules."
   ]
  },
  {
   "cell_type": "markdown",
   "metadata": {},
   "source": [
    "# Cleaning the ABV column"
   ]
  },
  {
   "cell_type": "markdown",
   "metadata": {},
   "source": [
    "Line by line cleaning of broken ABV values"
   ]
  },
  {
   "cell_type": "code",
   "execution_count": 190,
   "metadata": {},
   "outputs": [
    {
     "data": {
      "text/plain": [
       "Name           Finger Lakes Distilling McKenzie Pure Pot Stil...\n",
       "Score                                                         83\n",
       "Price_USD                                                     43\n",
       "Category                                        American Whiskey\n",
       "Review         \\n\\nMade from unmalted barley, malted barley, ...\n",
       "Author                                               Ted Simmons\n",
       "Sale_volume                                                  750\n",
       "Percent_ABV    Finger Lakes Distilling McKenzie Pure Pot Stil...\n",
       "Name: 55, dtype: object"
      ]
     },
     "execution_count": 190,
     "metadata": {},
     "output_type": "execute_result"
    }
   ],
   "source": [
    "#Set Percent_ABV to a numeric datatype - didn't work\n",
    "#check out position 55\n",
    "\n",
    "Whis_df.iloc[55]"
   ]
  },
  {
   "cell_type": "code",
   "execution_count": 191,
   "metadata": {},
   "outputs": [
    {
     "data": {
      "text/plain": [
       "Name           Finger Lakes Distilling McKenzie Pure Pot Stil...\n",
       "Score                                                         83\n",
       "Price_USD                                                     43\n",
       "Category                                        American Whiskey\n",
       "Review         \\n\\nMade from unmalted barley, malted barley, ...\n",
       "Author                                               Ted Simmons\n",
       "Sale_volume                                                  750\n",
       "Percent_ABV                                                   40\n",
       "Name: 55, dtype: object"
      ]
     },
     "execution_count": 191,
     "metadata": {},
     "output_type": "execute_result"
    }
   ],
   "source": [
    "#Rename by concatenating, and set ABV to default value of 40%\n",
    "\n",
    "Whis_df.iloc[55, Whis_df.columns.get_loc('Percent_ABV')] = 40\n",
    "\n",
    "Whis_df.iloc[55]"
   ]
  },
  {
   "cell_type": "code",
   "execution_count": 192,
   "metadata": {},
   "outputs": [
    {
     "data": {
      "text/plain": [
       "Name                     Little Book Chapter 1 “The Easy,” 60.2%\n",
       "Score                                                         92\n",
       "Price_USD                                                     80\n",
       "Category                                Blended American Whiskey\n",
       "Review         \\nBy focusing exclusively on high-quality stra...\n",
       "Author                                              Fred Minnick\n",
       "Sale_volume                                                  750\n",
       "Percent_ABV                                                 60.2\n",
       "Name: 133, dtype: object"
      ]
     },
     "execution_count": 192,
     "metadata": {},
     "output_type": "execute_result"
    }
   ],
   "source": [
    "#Set Percent_ABV to a numeric datatype - didn't work\n",
    "#check out position 133\n",
    "\n",
    "Whis_df.iloc[133, Whis_df.columns.get_loc('Percent_ABV')] = 60.2\n",
    "\n",
    "Whis_df.iloc[133]"
   ]
  },
  {
   "cell_type": "code",
   "execution_count": 193,
   "metadata": {},
   "outputs": [
    {
     "data": {
      "text/plain": [
       "Name                     Little Book Chapter 1 \"The Easy,\" 60.2%\n",
       "Score                                                         91\n",
       "Price_USD                                                     80\n",
       "Category                                Blended American Whiskey\n",
       "Review         \\nIt opens with dark chocolate, coffee, hazeln...\n",
       "Author                                              Fred Minnick\n",
       "Sale_volume                                                  750\n",
       "Percent_ABV                                                 60.2\n",
       "Name: 135, dtype: object"
      ]
     },
     "execution_count": 193,
     "metadata": {},
     "output_type": "execute_result"
    }
   ],
   "source": [
    "Whis_df.iloc[135, Whis_df.columns.get_loc('Percent_ABV')] = 60.2\n",
    "\n",
    "Whis_df.iloc[135]"
   ]
  },
  {
   "cell_type": "code",
   "execution_count": 194,
   "metadata": {},
   "outputs": [
    {
     "data": {
      "text/plain": [
       "Name                                Compass Box Hedonism Maximus\n",
       "Score                                                         90\n",
       "Price_USD                                                    300\n",
       "Category                             Blended Grain Scotch Whisky\n",
       "Review         \\nAn older, more exotic expression of Hedonism...\n",
       "Author                                              John Hansell\n",
       "Sale_volume                                                  750\n",
       "Percent_ABV                                                   40\n",
       "Name: 174, dtype: object"
      ]
     },
     "execution_count": 194,
     "metadata": {},
     "output_type": "execute_result"
    }
   ],
   "source": [
    "Whis_df.iloc[174, Whis_df.columns.get_loc('Percent_ABV')] = 40\n",
    "\n",
    "Whis_df.iloc[174]"
   ]
  },
  {
   "cell_type": "code",
   "execution_count": 195,
   "metadata": {},
   "outputs": [
    {
     "data": {
      "text/plain": [
       "Name            Booker’s 2014-01 “25th Anniversary Batch,” 65.4%\n",
       "Score                                                         96\n",
       "Price_USD                                                    100\n",
       "Category                                       Bourbon/Tennessee\n",
       "Review         \\nThe complete package: uncut, unfiltered, ful...\n",
       "Author                                              John Hansell\n",
       "Sale_volume                                                  750\n",
       "Percent_ABV                                                 65.4\n",
       "Name: 790, dtype: object"
      ]
     },
     "execution_count": 195,
     "metadata": {},
     "output_type": "execute_result"
    }
   ],
   "source": [
    "Whis_df.iloc[790, Whis_df.columns.get_loc('Percent_ABV')] = 65.4\n",
    "Whis_df.iloc[790]"
   ]
  },
  {
   "cell_type": "code",
   "execution_count": 196,
   "metadata": {},
   "outputs": [
    {
     "data": {
      "text/plain": [
       "Name                                            Pappy Van Winkle\n",
       "Score                                                         96\n",
       "Price_USD                                                    220\n",
       "Category                                       Bourbon/Tennessee\n",
       "Review         \\nMy review of this whiskey a few years back i...\n",
       "Author                                              John Hansell\n",
       "Sale_volume                                                  750\n",
       "Percent_ABV                                                   40\n",
       "Name: 795, dtype: object"
      ]
     },
     "execution_count": 196,
     "metadata": {},
     "output_type": "execute_result"
    }
   ],
   "source": [
    "Whis_df.iloc[795, Whis_df.columns.get_loc('Percent_ABV')] = 40\n",
    "\n",
    "Whis_df.iloc[795]"
   ]
  },
  {
   "cell_type": "code",
   "execution_count": 197,
   "metadata": {},
   "outputs": [
    {
     "data": {
      "text/plain": [
       "Name                                         Old Rip Van Winkle \n",
       "Score                                                         95\n",
       "Price_USD                                                    350\n",
       "Category                                       Bourbon/Tennessee\n",
       "Review         \\nDistilled in 1986. An excellent old wheated ...\n",
       "Author                                              John Hansell\n",
       "Sale_volume                                                  750\n",
       "Percent_ABV                                                   40\n",
       "Name: 805, dtype: object"
      ]
     },
     "execution_count": 197,
     "metadata": {},
     "output_type": "execute_result"
    }
   ],
   "source": [
    "Whis_df.iloc[805, Whis_df.columns.get_loc('Percent_ABV')] = 40\n",
    "\n",
    "Whis_df.iloc[805]"
   ]
  },
  {
   "cell_type": "code",
   "execution_count": 198,
   "metadata": {},
   "outputs": [
    {
     "data": {
      "text/plain": [
       "Name           Buffalo Trace Experimental Collection, 1995 Vi...\n",
       "Score                                                         95\n",
       "Price_USD                                                     47\n",
       "Category                                       Bourbon/Tennessee\n",
       "Review         \\nSurprisingly light and fresh for a 15 year o...\n",
       "Author                                              John Hansell\n",
       "Sale_volume                                                  750\n",
       "Percent_ABV                                                   45\n",
       "Name: 814, dtype: object"
      ]
     },
     "execution_count": 198,
     "metadata": {},
     "output_type": "execute_result"
    }
   ],
   "source": [
    "Whis_df.iloc[814, Whis_df.columns.get_loc('Percent_ABV')] = 45\n",
    "\n",
    "Whis_df.iloc[814]"
   ]
  },
  {
   "cell_type": "code",
   "execution_count": 199,
   "metadata": {},
   "outputs": [
    {
     "data": {
      "text/plain": [
       "Name           Bardstown Bourbon Co. Copper & Kings Apple Bra...\n",
       "Score                                                         94\n",
       "Price_USD                                                    125\n",
       "Category                                       Bourbon/Tennessee\n",
       "Review         \\nAromas of corn meal, corn muffins, and butte...\n",
       "Author                                             David Fleming\n",
       "Sale_volume                                                  750\n",
       "Percent_ABV                                                 60.2\n",
       "Name: 856, dtype: object"
      ]
     },
     "execution_count": 199,
     "metadata": {},
     "output_type": "execute_result"
    }
   ],
   "source": [
    "Whis_df.iloc[856, Whis_df.columns.get_loc('Percent_ABV')] = 60.20\n",
    "\n",
    "Whis_df.iloc[856]"
   ]
  },
  {
   "cell_type": "code",
   "execution_count": 200,
   "metadata": {},
   "outputs": [
    {
     "data": {
      "text/plain": [
       "Name                      Booker’s 2018-02 “Backyard BBQ,” 64.4%\n",
       "Score                                                         93\n",
       "Price_USD                                                     75\n",
       "Category                                       Bourbon/Tennessee\n",
       "Review         \\nTypical of Booker’s this bourbon shows lots ...\n",
       "Author                                        Jeffery Lindenmuth\n",
       "Sale_volume                                                  750\n",
       "Percent_ABV                                                 64.4\n",
       "Name: 952, dtype: object"
      ]
     },
     "execution_count": 200,
     "metadata": {},
     "output_type": "execute_result"
    }
   ],
   "source": [
    "Whis_df.iloc[952, Whis_df.columns.get_loc('Percent_ABV')] = 64.4\n",
    "\n",
    "Whis_df.iloc[952]"
   ]
  },
  {
   "cell_type": "code",
   "execution_count": 201,
   "metadata": {},
   "outputs": [
    {
     "data": {
      "text/plain": [
       "Name                    Booker’s 2018-03 “Kentucky Chew,” 63.35%\n",
       "Score                                                         93\n",
       "Price_USD                                                     70\n",
       "Category                                       Bourbon/Tennessee\n",
       "Review         \\nOriginally touted by Booker Noe, the “Kentuc...\n",
       "Author                                    Susannah Skiver Barton\n",
       "Sale_volume                                                  750\n",
       "Percent_ABV                                                63.35\n",
       "Name: 969, dtype: object"
      ]
     },
     "execution_count": 201,
     "metadata": {},
     "output_type": "execute_result"
    }
   ],
   "source": [
    "Whis_df.iloc[969, Whis_df.columns.get_loc('Percent_ABV')] = 63.35\n",
    "\n",
    "Whis_df.iloc[969]"
   ]
  },
  {
   "cell_type": "code",
   "execution_count": 202,
   "metadata": {},
   "outputs": [
    {
     "data": {
      "text/plain": [
       "Name                Little Book Chapter 3 “The Road Home,” 61.3%\n",
       "Score                                                         93\n",
       "Price_USD                                                    125\n",
       "Category                                       Bourbon/Tennessee\n",
       "Review         \\nThe chewy caramel aroma is bursting with all...\n",
       "Author                                        Jeffery Lindenmuth\n",
       "Sale_volume                                                  750\n",
       "Percent_ABV                                                 61.3\n",
       "Name: 978, dtype: object"
      ]
     },
     "execution_count": 202,
     "metadata": {},
     "output_type": "execute_result"
    }
   ],
   "source": [
    "Whis_df.iloc[978, Whis_df.columns.get_loc('Percent_ABV')] = 61.3\n",
    "\n",
    "Whis_df.iloc[978]"
   ]
  },
  {
   "cell_type": "code",
   "execution_count": 203,
   "metadata": {},
   "outputs": [
    {
     "data": {
      "text/plain": [
       "Name                  Booker’s 2018-01 \"Kathleen’s Batch,\" 63.7%\n",
       "Score                                                         92\n",
       "Price_USD                                                     70\n",
       "Category                                       Bourbon/Tennessee\n",
       "Review         \\nBright and pronounced caramel in many forms,...\n",
       "Author                                              Fred Minnick\n",
       "Sale_volume                                                  750\n",
       "Percent_ABV                                                 63.7\n",
       "Name: 991, dtype: object"
      ]
     },
     "execution_count": 203,
     "metadata": {},
     "output_type": "execute_result"
    }
   ],
   "source": [
    "Whis_df.iloc[991, Whis_df.columns.get_loc('Percent_ABV')] = 63.7\n",
    "\n",
    "Whis_df.iloc[991]"
   ]
  },
  {
   "cell_type": "code",
   "execution_count": 204,
   "metadata": {},
   "outputs": [
    {
     "data": {
      "text/plain": [
       "Name                    Booker’s 2017-01 “Tommy’s Batch,” 64.25%\n",
       "Score                                                         92\n",
       "Price_USD                                                     70\n",
       "Category                                       Bourbon/Tennessee\n",
       "Review         \\nAt 6 years, 4 months, and 6 days, this is be...\n",
       "Author                                              Fred Minnick\n",
       "Sale_volume                                                  750\n",
       "Percent_ABV                                                64.25\n",
       "Name: 1022, dtype: object"
      ]
     },
     "execution_count": 204,
     "metadata": {},
     "output_type": "execute_result"
    }
   ],
   "source": [
    "Whis_df.iloc[1022, Whis_df.columns.get_loc('Percent_ABV')] = 64.25\n",
    "\n",
    "Whis_df.iloc[1022]"
   ]
  },
  {
   "cell_type": "code",
   "execution_count": 205,
   "metadata": {},
   "outputs": [
    {
     "data": {
      "text/plain": [
       "Name                       Booker’s 2017-04 “Sip Awhile,” 64.05%\n",
       "Score                                                         92\n",
       "Price_USD                                                     73\n",
       "Category                                       Bourbon/Tennessee\n",
       "Review         \\nRosewater, almond extract, dark cherries, ro...\n",
       "Author                                              Fred Minnick\n",
       "Sale_volume                                                  750\n",
       "Percent_ABV                                                64.05\n",
       "Name: 1038, dtype: object"
      ]
     },
     "execution_count": 205,
     "metadata": {},
     "output_type": "execute_result"
    }
   ],
   "source": [
    "Whis_df.iloc[1038, Whis_df.columns.get_loc('Percent_ABV')] = 64.05\n",
    "\n",
    "Whis_df.iloc[1038]"
   ]
  },
  {
   "cell_type": "code",
   "execution_count": 206,
   "metadata": {},
   "outputs": [
    {
     "data": {
      "text/plain": [
       "Name                   Booker’s 2019-01 “Teresa’s Batch,” 62.95%\n",
       "Score                                                         92\n",
       "Price_USD                                                     80\n",
       "Category                                       Bourbon/Tennessee\n",
       "Review         \\nOn the nose, there’s Golden Grahams, iced te...\n",
       "Author                                    Susannah Skiver Barton\n",
       "Sale_volume                                                  750\n",
       "Percent_ABV                                                62.95\n",
       "Name: 1041, dtype: object"
      ]
     },
     "execution_count": 206,
     "metadata": {},
     "output_type": "execute_result"
    }
   ],
   "source": [
    "Whis_df.iloc[1041, Whis_df.columns.get_loc('Percent_ABV')] = 62.95\n",
    "\n",
    "Whis_df.iloc[1041]"
   ]
  },
  {
   "cell_type": "code",
   "execution_count": 207,
   "metadata": {},
   "outputs": [
    {
     "data": {
      "text/plain": [
       "Name                       Booker’s 2018-04 “Kitchen Table,” 64%\n",
       "Score                                                         92\n",
       "Price_USD                                                     75\n",
       "Category                                       Bourbon/Tennessee\n",
       "Review         \\nA classic bourbon nose, as butterscotch hard...\n",
       "Author                                        Jeffery Lindenmuth\n",
       "Sale_volume                                                  750\n",
       "Percent_ABV                                                   64\n",
       "Name: 1052, dtype: object"
      ]
     },
     "execution_count": 207,
     "metadata": {},
     "output_type": "execute_result"
    }
   ],
   "source": [
    "Whis_df.iloc[1052, Whis_df.columns.get_loc('Percent_ABV')] = 64\n",
    "\n",
    "Whis_df.iloc[1052]"
   ]
  },
  {
   "cell_type": "code",
   "execution_count": 208,
   "metadata": {},
   "outputs": [
    {
     "data": {
      "text/plain": [
       "Name                  Booker’s 2016-01 “Bluegrass Batch,” 63.95%\n",
       "Score                                                         91\n",
       "Price_USD                                                     60\n",
       "Category                                       Bourbon/Tennessee\n",
       "Review         \\nIf Picasso sketched bourbon, it would look l...\n",
       "Author                                              Fred Minnick\n",
       "Sale_volume                                                  750\n",
       "Percent_ABV                                                63.95\n",
       "Name: 1093, dtype: object"
      ]
     },
     "execution_count": 208,
     "metadata": {},
     "output_type": "execute_result"
    }
   ],
   "source": [
    "Whis_df.iloc[1093, Whis_df.columns.get_loc('Percent_ABV')] = 63.95\n",
    "\n",
    "Whis_df.iloc[1093]"
   ]
  },
  {
   "cell_type": "code",
   "execution_count": 209,
   "metadata": {},
   "outputs": [
    {
     "data": {
      "text/plain": [
       "Name           Evan Williams Single Barrel 1994 Vintage (Barr...\n",
       "Score                                                         89\n",
       "Price_USD                                                     25\n",
       "Category                                       Bourbon/Tennessee\n",
       "Review         \\nThis is an elegant whiskey with lots of fine...\n",
       "Author                                              John Hansell\n",
       "Sale_volume                                                  750\n",
       "Percent_ABV                                                 43.3\n",
       "Name: 1225, dtype: object"
      ]
     },
     "execution_count": 209,
     "metadata": {},
     "output_type": "execute_result"
    }
   ],
   "source": [
    "Whis_df.iloc[1225, Whis_df.columns.get_loc('Percent_ABV')] = 43.3\n",
    "\n",
    "Whis_df.iloc[1225]"
   ]
  },
  {
   "cell_type": "code",
   "execution_count": 210,
   "metadata": {},
   "outputs": [
    {
     "data": {
      "text/plain": [
       "Name           Woodford Reserve Master’s Collection “New Cask...\n",
       "Score                                                         88\n",
       "Price_USD                                                    100\n",
       "Category                                       Bourbon/Tennessee\n",
       "Review         \\nA set of two 100% rye whiskeys, triple disti...\n",
       "Author                                              John Hansell\n",
       "Sale_volume                                                  750\n",
       "Percent_ABV                                                 46.2\n",
       "Name: 1290, dtype: object"
      ]
     },
     "execution_count": 210,
     "metadata": {},
     "output_type": "execute_result"
    }
   ],
   "source": [
    "Whis_df.iloc[1290, Whis_df.columns.get_loc('Percent_ABV')] = 46.2\n",
    "\n",
    "Whis_df.iloc[1290]"
   ]
  },
  {
   "cell_type": "code",
   "execution_count": 211,
   "metadata": {},
   "outputs": [
    {
     "data": {
      "text/plain": [
       "Name           Woodford Reserve Master's Collection 'Seasoned...\n",
       "Score                                                         88\n",
       "Price_USD                                                     90\n",
       "Category                                       Bourbon/Tennessee\n",
       "Review         \\nThe fourth in the series of limited-edition ...\n",
       "Author                                              John Hansell\n",
       "Sale_volume                                                  750\n",
       "Percent_ABV                                                 50.2\n",
       "Name: 1294, dtype: object"
      ]
     },
     "execution_count": 211,
     "metadata": {},
     "output_type": "execute_result"
    }
   ],
   "source": [
    "Whis_df.iloc[1294, Whis_df.columns.get_loc('Percent_ABV')] = 50.2\n",
    "\n",
    "Whis_df.iloc[1294]"
   ]
  },
  {
   "cell_type": "code",
   "execution_count": 212,
   "metadata": {},
   "outputs": [
    {
     "data": {
      "text/plain": [
       "Name           Woodford Reserve Master's Collection 'Seasoned...\n",
       "Score                                                         88\n",
       "Price_USD                                                     90\n",
       "Category                                       Bourbon/Tennessee\n",
       "Review         \\nThe fourth in the series of limited-edition ...\n",
       "Author                                              John Hansell\n",
       "Sale_volume                                                  750\n",
       "Percent_ABV                                                   45\n",
       "Name: 1294, dtype: object"
      ]
     },
     "execution_count": 212,
     "metadata": {},
     "output_type": "execute_result"
    }
   ],
   "source": [
    "Whis_df.iloc[1294, Whis_df.columns.get_loc('Percent_ABV')] = 45\n",
    "\n",
    "Whis_df.iloc[1294]"
   ]
  },
  {
   "cell_type": "code",
   "execution_count": 213,
   "metadata": {},
   "outputs": [
    {
     "data": {
      "text/plain": [
       "Name           Buffalo Trace Experimental Collection, 1995 Vi...\n",
       "Score                                                         88\n",
       "Price_USD                                                     47\n",
       "Category                                       Bourbon/Tennessee\n",
       "Review         \\nDark, big, and brooding. A mouthful of oak s...\n",
       "Author                                              John Hansell\n",
       "Sale_volume                                                  750\n",
       "Percent_ABV                                                   45\n",
       "Name: 1327, dtype: object"
      ]
     },
     "execution_count": 213,
     "metadata": {},
     "output_type": "execute_result"
    }
   ],
   "source": [
    "Whis_df.iloc[1327, Whis_df.columns.get_loc('Percent_ABV')] = 45\n",
    "\n",
    "Whis_df.iloc[1327]"
   ]
  },
  {
   "cell_type": "code",
   "execution_count": 214,
   "metadata": {},
   "outputs": [
    {
     "data": {
      "text/plain": [
       "Name             Booker’s 2015-01 “Big Man, Small Batch,” 64.35%\n",
       "Score                                                         88\n",
       "Price_USD                                                     55\n",
       "Category                                       Bourbon/Tennessee\n",
       "Review         \\nThe first in a series of limited edition rel...\n",
       "Author                                              John Hansell\n",
       "Sale_volume                                                  750\n",
       "Percent_ABV                                                64.35\n",
       "Name: 1332, dtype: object"
      ]
     },
     "execution_count": 214,
     "metadata": {},
     "output_type": "execute_result"
    }
   ],
   "source": [
    "Whis_df.iloc[1332, Whis_df.columns.get_loc('Percent_ABV')] = 64.35\n",
    "\n",
    "Whis_df.iloc[1332]"
   ]
  },
  {
   "cell_type": "code",
   "execution_count": 215,
   "metadata": {},
   "outputs": [
    {
     "data": {
      "text/plain": [
       "Name           Four Roses Mariage Collection (2009 Release), ...\n",
       "Score                                                         87\n",
       "Price_USD                                                     80\n",
       "Category                                       Bourbon/Tennessee\n",
       "Review         \\nA combination of 10 and 19 year old bourbons...\n",
       "Author                                              John Hansell\n",
       "Sale_volume                                                  750\n",
       "Percent_ABV                                                   58\n",
       "Name: 1364, dtype: object"
      ]
     },
     "execution_count": 215,
     "metadata": {},
     "output_type": "execute_result"
    }
   ],
   "source": [
    "Whis_df.iloc[1364, Whis_df.columns.get_loc('Percent_ABV')] = 58\n",
    "\n",
    "Whis_df.iloc[1364]"
   ]
  },
  {
   "cell_type": "code",
   "execution_count": 216,
   "metadata": {},
   "outputs": [
    {
     "data": {
      "text/plain": [
       "Name           Woodford Reserve Master’s Collection “Aged Cas...\n",
       "Score                                                         87\n",
       "Price_USD                                                    100\n",
       "Category                                       Bourbon/Tennessee\n",
       "Review         \\nA set of two 100% rye whiskeys, triple disti...\n",
       "Author                                              John Hansell\n",
       "Sale_volume                                                  750\n",
       "Percent_ABV                                                 46.2\n",
       "Name: 1368, dtype: object"
      ]
     },
     "execution_count": 216,
     "metadata": {},
     "output_type": "execute_result"
    }
   ],
   "source": [
    "Whis_df.iloc[1368, Whis_df.columns.get_loc('Percent_ABV')] = 46.2\n",
    "\n",
    "Whis_df.iloc[1368]"
   ]
  },
  {
   "cell_type": "code",
   "execution_count": 217,
   "metadata": {},
   "outputs": [
    {
     "data": {
      "text/plain": [
       "Name                 Booker’s 2015-04 “Oven Buster Batch,” 63.5%\n",
       "Score                                                         87\n",
       "Price_USD                                                     60\n",
       "Category                                       Bourbon/Tennessee\n",
       "Review         \\nAged over 6 years, this is a rather feminine...\n",
       "Author                                              John Hansell\n",
       "Sale_volume                                                  750\n",
       "Percent_ABV                                                 63.5\n",
       "Name: 1403, dtype: object"
      ]
     },
     "execution_count": 217,
     "metadata": {},
     "output_type": "execute_result"
    }
   ],
   "source": [
    "Whis_df.iloc[1403, Whis_df.columns.get_loc('Percent_ABV')] = 63.5\n",
    "\n",
    "Whis_df.iloc[1403]"
   ]
  },
  {
   "cell_type": "code",
   "execution_count": 218,
   "metadata": {},
   "outputs": [
    {
     "data": {
      "text/plain": [
       "Name                Booker’s 2017-02 “Blue Knights Batch,” 63.7%\n",
       "Score                                                         86\n",
       "Price_USD                                                     75\n",
       "Category                                       Bourbon/Tennessee\n",
       "Review         \\nThink corn: roasted, canned, creamed, mashed...\n",
       "Author                                              Fred Minnick\n",
       "Sale_volume                                                  750\n",
       "Percent_ABV                                                 63.7\n",
       "Name: 1438, dtype: object"
      ]
     },
     "execution_count": 218,
     "metadata": {},
     "output_type": "execute_result"
    }
   ],
   "source": [
    "Whis_df.iloc[1438, Whis_df.columns.get_loc('Percent_ABV')] = 63.7\n",
    "\n",
    "Whis_df.iloc[1438]"
   ]
  },
  {
   "cell_type": "code",
   "execution_count": 219,
   "metadata": {},
   "outputs": [
    {
     "data": {
      "text/plain": [
       "Name                                 Jim Beam “Devil’s Cut,” 45%\n",
       "Score                                                         83\n",
       "Price_USD                                                     24\n",
       "Category                                       Bourbon/Tennessee\n",
       "Review         \\nMore wood influence than the standard Jim Be...\n",
       "Author                                              John Hansell\n",
       "Sale_volume                                                  750\n",
       "Percent_ABV                                                   45\n",
       "Name: 1561, dtype: object"
      ]
     },
     "execution_count": 219,
     "metadata": {},
     "output_type": "execute_result"
    }
   ],
   "source": [
    "Whis_df.iloc[1561, Whis_df.columns.get_loc('Percent_ABV')] = 45\n",
    "\n",
    "Whis_df.iloc[1561]"
   ]
  },
  {
   "cell_type": "code",
   "execution_count": 220,
   "metadata": {},
   "outputs": [
    {
     "data": {
      "text/plain": [
       "Name               Booker’s 2016-03 “Toogie’s Invitation,” 64.5%\n",
       "Score                                                         82\n",
       "Price_USD                                                     60\n",
       "Category                                       Bourbon/Tennessee\n",
       "Review         \\nAt 6 years, 4 months, and 4 days old, there’...\n",
       "Author                                              Fred Minnick\n",
       "Sale_volume                                                  750\n",
       "Percent_ABV                                                 64.5\n",
       "Name: 1590, dtype: object"
      ]
     },
     "execution_count": 220,
     "metadata": {},
     "output_type": "execute_result"
    }
   ],
   "source": [
    "Whis_df.iloc[1590, Whis_df.columns.get_loc('Percent_ABV')] = 64.5\n",
    "\n",
    "Whis_df.iloc[1590]"
   ]
  },
  {
   "cell_type": "code",
   "execution_count": 221,
   "metadata": {},
   "outputs": [
    {
     "data": {
      "text/plain": [
       "Name                          Black Velvet Onyx 12 year old. 40%\n",
       "Score                                                         88\n",
       "Price_USD                                                     28\n",
       "Category                                                Canadian\n",
       "Review         \\nDry and mildly dusty on first nosing, with a...\n",
       "Author                                      Davin de Kergommeaux\n",
       "Sale_volume                                                  750\n",
       "Percent_ABV                                                   40\n",
       "Name: 1783, dtype: object"
      ]
     },
     "execution_count": 221,
     "metadata": {},
     "output_type": "execute_result"
    }
   ],
   "source": [
    "Whis_df.iloc[1783, Whis_df.columns.get_loc('Percent_ABV')] = 40\n",
    "\n",
    "Whis_df.iloc[1783]"
   ]
  },
  {
   "cell_type": "code",
   "execution_count": 222,
   "metadata": {},
   "outputs": [
    {
     "data": {
      "text/plain": [
       "Name                           Canadian Club Classic 12, 40% ABV\n",
       "Score                                                         85\n",
       "Price_USD                                                     22\n",
       "Category                                                Canadian\n",
       "Review         \\nNose is much more integrated than the others...\n",
       "Author                                                Lew Bryson\n",
       "Sale_volume                                                  750\n",
       "Percent_ABV                                                   40\n",
       "Name: 1828, dtype: object"
      ]
     },
     "execution_count": 222,
     "metadata": {},
     "output_type": "execute_result"
    }
   ],
   "source": [
    "Whis_df.iloc[1828, Whis_df.columns.get_loc('Percent_ABV')] = 40\n",
    "\n",
    "Whis_df.iloc[1828]"
   ]
  },
  {
   "cell_type": "code",
   "execution_count": 223,
   "metadata": {},
   "outputs": [
    {
     "data": {
      "text/plain": [
       "Name                                  Glen Breton Ice, 62.2% ABV\n",
       "Score                                                         84\n",
       "Price_USD                                                     50\n",
       "Category                                                Canadian\n",
       "Review         \\nAged 10 years in icewine barrels — a Canadia...\n",
       "Author                                                Lew Bryson\n",
       "Sale_volume                                                  750\n",
       "Percent_ABV                                                 62.2\n",
       "Name: 1841, dtype: object"
      ]
     },
     "execution_count": 223,
     "metadata": {},
     "output_type": "execute_result"
    }
   ],
   "source": [
    "Whis_df.iloc[1841, Whis_df.columns.get_loc('Percent_ABV')] = 62.2\n",
    "\n",
    "Whis_df.iloc[1841]"
   ]
  },
  {
   "cell_type": "code",
   "execution_count": 224,
   "metadata": {},
   "outputs": [
    {
     "data": {
      "text/plain": [
       "Name                              Canadian Club Reserve, 40% ABV\n",
       "Score                                                         82\n",
       "Price_USD                                                     17\n",
       "Category                                                Canadian\n",
       "Review         \\nA bit of heat, faint nose of putty, light br...\n",
       "Author                                                Lew Bryson\n",
       "Sale_volume                                                  750\n",
       "Percent_ABV                                                   40\n",
       "Name: 1872, dtype: object"
      ]
     },
     "execution_count": 224,
     "metadata": {},
     "output_type": "execute_result"
    }
   ],
   "source": [
    "Whis_df.iloc[1872, Whis_df.columns.get_loc('Percent_ABV')] = 40\n",
    "\n",
    "Whis_df.iloc[1872]"
   ]
  },
  {
   "cell_type": "code",
   "execution_count": 225,
   "metadata": {},
   "outputs": [
    {
     "data": {
      "text/plain": [
       "Name                        Canadian Club Sherry Cask, 41.3% ABV\n",
       "Score                                                         82\n",
       "Price_USD                                                     28\n",
       "Category                                                Canadian\n",
       "Review         \\n8 years old and sherry finished, and it show...\n",
       "Author                                                Lew Bryson\n",
       "Sale_volume                                                  750\n",
       "Percent_ABV                                                 41.3\n",
       "Name: 1873, dtype: object"
      ]
     },
     "execution_count": 225,
     "metadata": {},
     "output_type": "execute_result"
    }
   ],
   "source": [
    "Whis_df.iloc[1873, Whis_df.columns.get_loc('Percent_ABV')] = 41.3\n",
    "\n",
    "Whis_df.iloc[1873]"
   ]
  },
  {
   "cell_type": "code",
   "execution_count": 226,
   "metadata": {},
   "outputs": [
    {
     "data": {
      "text/plain": [
       "Name                                          Danfield's Private\n",
       "Score                                                         81\n",
       "Price_USD                                                     22\n",
       "Category                                                Canadian\n",
       "Review         \\nLight in body and on the nose, but clean and...\n",
       "Author                                              John Hansell\n",
       "Sale_volume                                                  750\n",
       "Percent_ABV                                                   40\n",
       "Name: 1892, dtype: object"
      ]
     },
     "execution_count": 226,
     "metadata": {},
     "output_type": "execute_result"
    }
   ],
   "source": [
    "Whis_df.iloc[1892, Whis_df.columns.get_loc('Percent_ABV')] = 40\n",
    "\n",
    "Whis_df.iloc[1892]"
   ]
  },
  {
   "cell_type": "code",
   "execution_count": 227,
   "metadata": {},
   "outputs": [
    {
     "data": {
      "text/plain": [
       "Name                               Canadian Club Whisky, 40% ABV\n",
       "Score                                                         80\n",
       "Price_USD                                                     14\n",
       "Category                                                Canadian\n",
       "Review         \\nPale, almost peach color. Light aromas of ca...\n",
       "Author                                                Lew Bryson\n",
       "Sale_volume                                                  750\n",
       "Percent_ABV                                                   40\n",
       "Name: 1899, dtype: object"
      ]
     },
     "execution_count": 227,
     "metadata": {},
     "output_type": "execute_result"
    }
   ],
   "source": [
    "Whis_df.iloc[1899, Whis_df.columns.get_loc('Percent_ABV')] = 40\n",
    "\n",
    "Whis_df.iloc[1899]"
   ]
  },
  {
   "cell_type": "code",
   "execution_count": 228,
   "metadata": {},
   "outputs": [
    {
     "data": {
      "text/plain": [
       "Name            Canadian Club 100 Proof Export Strength, 50% ABV\n",
       "Score                                                         77\n",
       "Price_USD                                                     20\n",
       "Category                                                Canadian\n",
       "Review         \\nHot solvents on the nose, reminiscent of Hin...\n",
       "Author                                                Lew Bryson\n",
       "Sale_volume                                                  750\n",
       "Percent_ABV                                                   50\n",
       "Name: 1921, dtype: object"
      ]
     },
     "execution_count": 228,
     "metadata": {},
     "output_type": "execute_result"
    }
   ],
   "source": [
    "Whis_df.iloc[1921, Whis_df.columns.get_loc('Percent_ABV')] = 50\n",
    "\n",
    "Whis_df.iloc[1921]"
   ]
  },
  {
   "cell_type": "code",
   "execution_count": 229,
   "metadata": {},
   "outputs": [
    {
     "data": {
      "text/plain": [
       "Name                 Wyoming Double Cask Sherry Finished Bourbon\n",
       "Score                                                         83\n",
       "Price_USD                                                     60\n",
       "Category                                           Craft Whiskey\n",
       "Review         \\nPale gold in color. Generous oak imparts hon...\n",
       "Author                                        Jeffery Lindenmuth\n",
       "Sale_volume                                                  750\n",
       "Percent_ABV                                                   40\n",
       "Name: 2161, dtype: object"
      ]
     },
     "execution_count": 229,
     "metadata": {},
     "output_type": "execute_result"
    }
   ],
   "source": [
    "Whis_df.iloc[2161, Whis_df.columns.get_loc('Percent_ABV')] = 40\n",
    "\n",
    "Whis_df.iloc[2161]"
   ]
  },
  {
   "cell_type": "code",
   "execution_count": 230,
   "metadata": {},
   "outputs": [
    {
     "data": {
      "text/plain": [
       "Name                                                    JP Wiser\n",
       "Score                                                         81\n",
       "Price_USD                                                     21\n",
       "Category                              Flavored Whisky & Liqueurs\n",
       "Review         \\nBurnt caramel, sweet—almost candied—but not ...\n",
       "Author                                      Davin de Kergommeaux\n",
       "Sale_volume                                                  750\n",
       "Percent_ABV                                                   40\n",
       "Name: 2364, dtype: object"
      ]
     },
     "execution_count": 230,
     "metadata": {},
     "output_type": "execute_result"
    }
   ],
   "source": [
    "Whis_df.iloc[2364, Whis_df.columns.get_loc('Percent_ABV')] = 40\n",
    "\n",
    "Whis_df.iloc[2364]"
   ]
  },
  {
   "cell_type": "code",
   "execution_count": 231,
   "metadata": {},
   "outputs": [
    {
     "data": {
      "text/plain": [
       "Name                                           Kornog Toal Esa Z\n",
       "Score                                                         90\n",
       "Price_USD                                                     77\n",
       "Category                                           French Whisky\n",
       "Review         \\nKornog is the peated version of Glann ar Mor...\n",
       "Author                                           Dominic Roskrow\n",
       "Sale_volume                                                  750\n",
       "Percent_ABV                                                   40\n",
       "Name: 2409, dtype: object"
      ]
     },
     "execution_count": 231,
     "metadata": {},
     "output_type": "execute_result"
    }
   ],
   "source": [
    "Whis_df.iloc[2409, Whis_df.columns.get_loc('Percent_ABV')] = 40\n",
    "\n",
    "Whis_df.iloc[2409]"
   ]
  },
  {
   "cell_type": "code",
   "execution_count": 232,
   "metadata": {},
   "outputs": [
    {
     "data": {
      "text/plain": [
       "Name                                              Kornog Taouarc\n",
       "Score                                                         88\n",
       "Price_USD                                                     77\n",
       "Category                                           French Whisky\n",
       "Review         \\nOf all the releases I've tasted from this di...\n",
       "Author                                           Dominic Roskrow\n",
       "Sale_volume                                                  750\n",
       "Percent_ABV                                                   40\n",
       "Name: 2420, dtype: object"
      ]
     },
     "execution_count": 232,
     "metadata": {},
     "output_type": "execute_result"
    }
   ],
   "source": [
    "Whis_df.iloc[2420, Whis_df.columns.get_loc('Percent_ABV')] = 40\n",
    "\n",
    "Whis_df.iloc[2420]"
   ]
  },
  {
   "cell_type": "code",
   "execution_count": 233,
   "metadata": {},
   "outputs": [
    {
     "data": {
      "text/plain": [
       "Name                                         Amrut 'Fusion,' 50%\n",
       "Score                                                         89\n",
       "Price_USD                                                     50\n",
       "Category                                           Indian Whisky\n",
       "Review         \\nBalance, complexity, and surprising maturity...\n",
       "Author                                              John Hansell\n",
       "Sale_volume                                                  750\n",
       "Percent_ABV                                                   50\n",
       "Name: 2479, dtype: object"
      ]
     },
     "execution_count": 233,
     "metadata": {},
     "output_type": "execute_result"
    }
   ],
   "source": [
    "Whis_df.iloc[2479, Whis_df.columns.get_loc('Percent_ABV')] = 50\n",
    "\n",
    "Whis_df.iloc[2479]"
   ]
  },
  {
   "cell_type": "code",
   "execution_count": 234,
   "metadata": {},
   "outputs": [
    {
     "data": {
      "text/plain": [
       "Name                                        Fuji-Sanroku 50° 50%\n",
       "Score                                                         92\n",
       "Price_USD                                                     53\n",
       "Category                                         Japanese Whisky\n",
       "Review         \\nJota Tanaka, Kirin’s chief blender, utilizes...\n",
       "Author                                           Jonny McCormick\n",
       "Sale_volume                                                  750\n",
       "Percent_ABV                                                   50\n",
       "Name: 2778, dtype: object"
      ]
     },
     "execution_count": 234,
     "metadata": {},
     "output_type": "execute_result"
    }
   ],
   "source": [
    "Whis_df.iloc[2778, Whis_df.columns.get_loc('Percent_ABV')] = 50\n",
    "\n",
    "Whis_df.iloc[2778]"
   ]
  },
  {
   "cell_type": "code",
   "execution_count": 235,
   "metadata": {},
   "outputs": [
    {
     "data": {
      "text/plain": [
       "Name                           Mars The Lucky Cat “Ash ’99,” 43%\n",
       "Score                                                         91\n",
       "Price_USD                                                    100\n",
       "Category                                         Japanese Whisky\n",
       "Review         \\nYes, there is a cute, mewing black kitten on...\n",
       "Author                                           Jonny McCormick\n",
       "Sale_volume                                                  750\n",
       "Percent_ABV                                                   43\n",
       "Name: 2791, dtype: object"
      ]
     },
     "execution_count": 235,
     "metadata": {},
     "output_type": "execute_result"
    }
   ],
   "source": [
    "Whis_df.iloc[2791, Whis_df.columns.get_loc('Percent_ABV')] = 43\n",
    "\n",
    "Whis_df.iloc[2791]"
   ]
  },
  {
   "cell_type": "code",
   "execution_count": 236,
   "metadata": {},
   "outputs": [
    {
     "data": {
      "text/plain": [
       "Name           Ichiro’s Malt, Hanyu 23 year old “sherry casks...\n",
       "Score                                                         91\n",
       "Price_USD                                                    695\n",
       "Category                                         Japanese Whisky\n",
       "Review         \\nThis oldie (from a distillery which closed i...\n",
       "Author                                                Dave Broom\n",
       "Sale_volume                                                  750\n",
       "Percent_ABV                                                   58\n",
       "Name: 2794, dtype: object"
      ]
     },
     "execution_count": 236,
     "metadata": {},
     "output_type": "execute_result"
    }
   ],
   "source": [
    "Whis_df.iloc[2794, Whis_df.columns.get_loc('Percent_ABV')] = 58\n",
    "\n",
    "Whis_df.iloc[2794]"
   ]
  },
  {
   "cell_type": "code",
   "execution_count": 237,
   "metadata": {},
   "outputs": [
    {
     "data": {
      "text/plain": [
       "Name           Karuizawa cask 4592, 1977 (bottle 2010), ‘Noh ...\n",
       "Score                                                         89\n",
       "Price_USD                                                    200\n",
       "Category                                         Japanese Whisky\n",
       "Review         \\nThe (sadly mothballed) Karuizawa distillery ...\n",
       "Author                                                Dave Broom\n",
       "Sale_volume                                                  750\n",
       "Percent_ABV                                                 60.7\n",
       "Name: 2828, dtype: object"
      ]
     },
     "execution_count": 237,
     "metadata": {},
     "output_type": "execute_result"
    }
   ],
   "source": [
    "Whis_df.iloc[2828, Whis_df.columns.get_loc('Percent_ABV')] = 60.7\n",
    "\n",
    "Whis_df.iloc[2828]"
   ]
  },
  {
   "cell_type": "code",
   "execution_count": 238,
   "metadata": {},
   "outputs": [
    {
     "data": {
      "text/plain": [
       "Name              Little Book Chapter 2 “Noe Simple Task,” 59.4%\n",
       "Score                                                         93\n",
       "Price_USD                                                    100\n",
       "Category                                           Miscellaneous\n",
       "Review         \\nA fascinating flurry of aromas—red fruit pun...\n",
       "Author                                        Jeffery Lindenmuth\n",
       "Sale_volume                                                  750\n",
       "Percent_ABV                                                 59.4\n",
       "Name: 2902, dtype: object"
      ]
     },
     "execution_count": 238,
     "metadata": {},
     "output_type": "execute_result"
    }
   ],
   "source": [
    "Whis_df.iloc[2902, Whis_df.columns.get_loc('Percent_ABV')] = 59.4\n",
    "\n",
    "Whis_df.iloc[2902]"
   ]
  },
  {
   "cell_type": "code",
   "execution_count": 239,
   "metadata": {},
   "outputs": [
    {
     "data": {
      "text/plain": [
       "Name                         Barrell Whiskey (Batch 001), 61.25%\n",
       "Score                                                         92\n",
       "Price_USD                                                     59\n",
       "Category                                           Miscellaneous\n",
       "Review         \\n7 year old whiskey (an unspecified “corn, ry...\n",
       "Author                                                Lew Bryson\n",
       "Sale_volume                                                  750\n",
       "Percent_ABV                                                61.25\n",
       "Name: 2904, dtype: object"
      ]
     },
     "execution_count": 239,
     "metadata": {},
     "output_type": "execute_result"
    }
   ],
   "source": [
    "#row 2903 is a dupe\n",
    "\n",
    "Whis_df = Whis_df.drop([2903])\n",
    "\n",
    "Whis_df.iloc[2903]"
   ]
  },
  {
   "cell_type": "code",
   "execution_count": 240,
   "metadata": {},
   "outputs": [
    {
     "data": {
      "text/plain": [
       "Name                                                 New Zealand\n",
       "Score                                                         88\n",
       "Price_USD                                                    233\n",
       "Category                                             New Zealand\n",
       "Review         \\nRugby union fans will recognize the name and...\n",
       "Author                                           Dominic Roskrow\n",
       "Sale_volume                                                  750\n",
       "Percent_ABV                                                   40\n",
       "Name: 2953, dtype: object"
      ]
     },
     "execution_count": 240,
     "metadata": {},
     "output_type": "execute_result"
    }
   ],
   "source": [
    "Whis_df.iloc[2952, Whis_df.columns.get_loc('Percent_ABV')] = 40\n",
    "\n",
    "Whis_df.iloc[2952]"
   ]
  },
  {
   "cell_type": "code",
   "execution_count": 241,
   "metadata": {},
   "outputs": [
    {
     "data": {
      "text/plain": [
       "Name                                         Thomson 17 year old\n",
       "Score                                                         79\n",
       "Price_USD                                                     95\n",
       "Category                                             New Zealand\n",
       "Review         \\nThomson has discovered and bottled stocks fr...\n",
       "Author                                           Dominic Roskrow\n",
       "Sale_volume                                                  750\n",
       "Percent_ABV                                                   40\n",
       "Name: 2961, dtype: object"
      ]
     },
     "execution_count": 241,
     "metadata": {},
     "output_type": "execute_result"
    }
   ],
   "source": [
    "Whis_df.iloc[2960, Whis_df.columns.get_loc('Percent_ABV')] = 40\n",
    "\n",
    "Whis_df.iloc[2960]"
   ]
  },
  {
   "cell_type": "code",
   "execution_count": 242,
   "metadata": {},
   "outputs": [
    {
     "data": {
      "text/plain": [
       "Name                         Minor Case Sherry Cask Finished Rye\n",
       "Score                                                         87\n",
       "Price_USD                                                     50\n",
       "Category                                             Rye Whiskey\n",
       "Review         \\nThe sherry cask finish asserts itself right ...\n",
       "Author                                    Susannah Skiver Barton\n",
       "Sale_volume                                                  750\n",
       "Percent_ABV                                                   40\n",
       "Name: 3132, dtype: object"
      ]
     },
     "execution_count": 242,
     "metadata": {},
     "output_type": "execute_result"
    }
   ],
   "source": [
    "Whis_df.iloc[3131, Whis_df.columns.get_loc('Percent_ABV')] = 40\n",
    "\n",
    "Whis_df.iloc[3131]"
   ]
  },
  {
   "cell_type": "code",
   "execution_count": 243,
   "metadata": {},
   "outputs": [
    {
     "data": {
      "text/plain": [
       "Name                          Grand Traverse \"Ole George,\" 46.5%\n",
       "Score                                                         80\n",
       "Price_USD                                                     48\n",
       "Category                                             Rye Whiskey\n",
       "Review         \\nSweet (caramel, butterscotch), botanical, an...\n",
       "Author                                              John Hansell\n",
       "Sale_volume                                                  750\n",
       "Percent_ABV                                                 46.5\n",
       "Name: 3226, dtype: object"
      ]
     },
     "execution_count": 243,
     "metadata": {},
     "output_type": "execute_result"
    }
   ],
   "source": [
    "Whis_df.iloc[3225, Whis_df.columns.get_loc('Percent_ABV')] = 46.5\n",
    "\n",
    "Whis_df.iloc[3225]"
   ]
  },
  {
   "cell_type": "code",
   "execution_count": 244,
   "metadata": {},
   "outputs": [
    {
     "data": {
      "text/plain": [
       "Name           Woodstone Creek Single Malt “The Murray Barrel...\n",
       "Score                                                         83\n",
       "Price_USD                                                    118\n",
       "Category                            Single Malt American Whiskey\n",
       "Review         \\nNice color for a 10 year old. Puffing peat o...\n",
       "Author                                                Lew Bryson\n",
       "Sale_volume                                                  750\n",
       "Percent_ABV                                                 46.5\n",
       "Name: 3438, dtype: object"
      ]
     },
     "execution_count": 244,
     "metadata": {},
     "output_type": "execute_result"
    }
   ],
   "source": [
    "Whis_df.iloc[3437, Whis_df.columns.get_loc('Percent_ABV')] = 46.5\n",
    "\n",
    "Whis_df.iloc[3437]"
   ]
  },
  {
   "cell_type": "code",
   "execution_count": 245,
   "metadata": {},
   "outputs": [
    {
     "data": {
      "text/plain": [
       "Name                                        The Notch, 44.4% ABV\n",
       "Score                                                         82\n",
       "Price_USD                                                    888\n",
       "Category                            Single Malt American Whiskey\n",
       "Review         \\nThe price, the proof, and 8 years of age ref...\n",
       "Author                                                Lew Bryson\n",
       "Sale_volume                                                  750\n",
       "Percent_ABV                                                 44.4\n",
       "Name: 3443, dtype: object"
      ]
     },
     "execution_count": 245,
     "metadata": {},
     "output_type": "execute_result"
    }
   ],
   "source": [
    "Whis_df.iloc[3442, Whis_df.columns.get_loc('Percent_ABV')] = 44.4\n",
    "\n",
    "Whis_df.iloc[3442]"
   ]
  },
  {
   "cell_type": "code",
   "execution_count": 246,
   "metadata": {},
   "outputs": [
    {
     "data": {
      "text/plain": [
       "Name                          St. George’s Chapter 6, 3 year old\n",
       "Score                                                         80\n",
       "Price_USD                                                     59\n",
       "Category                              Single Malt English Whisky\n",
       "Review         \\nEngland’s sole whisky distillery (currently,...\n",
       "Author                                                Dave Broom\n",
       "Sale_volume                                                  750\n",
       "Percent_ABV                                                   40\n",
       "Name: 3486, dtype: object"
      ]
     },
     "execution_count": 246,
     "metadata": {},
     "output_type": "execute_result"
    }
   ],
   "source": [
    "Whis_df.iloc[3485, Whis_df.columns.get_loc('Percent_ABV')] = 40\n",
    "\n",
    "Whis_df.iloc[3485]"
   ]
  },
  {
   "cell_type": "code",
   "execution_count": 247,
   "metadata": {},
   "outputs": [
    {
     "data": {
      "text/plain": [
       "Name           The Balvenie 30 year old 1973 Vintage (Cask #9...\n",
       "Score                                                         93\n",
       "Price_USD                                                    400\n",
       "Category                                      Single Malt Scotch\n",
       "Review         \\nThe last Balvenie Vintage whisky I tasted th...\n",
       "Author                                              John Hansell\n",
       "Sale_volume                                                  750\n",
       "Percent_ABV                                                   40\n",
       "Name: 3671, dtype: object"
      ]
     },
     "execution_count": 247,
     "metadata": {},
     "output_type": "execute_result"
    }
   ],
   "source": [
    "Whis_df.iloc[3669, Whis_df.columns.get_loc('Percent_ABV')] = 40\n",
    "\n",
    "Whis_df.iloc[3669]"
   ]
  },
  {
   "cell_type": "code",
   "execution_count": 248,
   "metadata": {},
   "outputs": [
    {
     "data": {
      "text/plain": [
       "Name                         The Glenrothes “John Ramsay,” 46.7%\n",
       "Score                                                         93\n",
       "Price_USD                                                   1000\n",
       "Category                                      Single Malt Scotch\n",
       "Review         \\nMade from whisky aged in second fill America...\n",
       "Author                                              John Hansell\n",
       "Sale_volume                                                  750\n",
       "Percent_ABV                                                 46.7\n",
       "Name: 3679, dtype: object"
      ]
     },
     "execution_count": 248,
     "metadata": {},
     "output_type": "execute_result"
    }
   ],
   "source": [
    "Whis_df.iloc[3677, Whis_df.columns.get_loc('Percent_ABV')] = 46.7\n",
    "\n",
    "Whis_df.iloc[3677]"
   ]
  },
  {
   "cell_type": "code",
   "execution_count": 249,
   "metadata": {},
   "outputs": [
    {
     "data": {
      "text/plain": [
       "Name                          Kilchoman 'Inaugural Release,' 46%\n",
       "Score                                                         92\n",
       "Price_USD                                                     60\n",
       "Category                                      Single Malt Scotch\n",
       "Review         \\nAged 2.5 to 3 years on bourbon casks and the...\n",
       "Author                                              John Hansell\n",
       "Sale_volume                                                  750\n",
       "Percent_ABV                                                   46\n",
       "Name: 3733, dtype: object"
      ]
     },
     "execution_count": 249,
     "metadata": {},
     "output_type": "execute_result"
    }
   ],
   "source": [
    "Whis_df.iloc[3731, Whis_df.columns.get_loc('Percent_ABV')] = 46\n",
    "\n",
    "Whis_df.iloc[3731]"
   ]
  },
  {
   "cell_type": "code",
   "execution_count": 250,
   "metadata": {},
   "outputs": [
    {
     "data": {
      "text/plain": [
       "Name                          Kilchoman 'Inaugural Release,' 46%\n",
       "Score                                                         92\n",
       "Price_USD                                                     60\n",
       "Category                                      Single Malt Scotch\n",
       "Review         \\nAged 2.5 to 3 years on bourbon casks and the...\n",
       "Author                                              John Hansell\n",
       "Sale_volume                                                  750\n",
       "Percent_ABV                                                   46\n",
       "Name: 3733, dtype: object"
      ]
     },
     "execution_count": 250,
     "metadata": {},
     "output_type": "execute_result"
    }
   ],
   "source": [
    "Whis_df.iloc[3731, Whis_df.columns.get_loc('Percent_ABV')] = 46\n",
    "\n",
    "Whis_df.iloc[3731]"
   ]
  },
  {
   "cell_type": "code",
   "execution_count": 251,
   "metadata": {},
   "outputs": [
    {
     "data": {
      "text/plain": [
       "Name                           Highland Park “Saint Magnus,” 55%\n",
       "Score                                                         92\n",
       "Price_USD                                                    132\n",
       "Category                                      Single Malt Scotch\n",
       "Review         \\nThe second in a series of three high-strengt...\n",
       "Author                                              John Hansell\n",
       "Sale_volume                                                  750\n",
       "Percent_ABV                                                   55\n",
       "Name: 3776, dtype: object"
      ]
     },
     "execution_count": 251,
     "metadata": {},
     "output_type": "execute_result"
    }
   ],
   "source": [
    "Whis_df.iloc[3774, Whis_df.columns.get_loc('Percent_ABV')] = 55\n",
    "\n",
    "Whis_df.iloc[3774]"
   ]
  },
  {
   "cell_type": "code",
   "execution_count": 252,
   "metadata": {},
   "outputs": [
    {
     "data": {
      "text/plain": [
       "Name                                  Glenfarclas £511. 19s. 0d.\n",
       "Score                                                         89\n",
       "Price_USD                                                    130\n",
       "Category                                      Single Malt Scotch\n",
       "Review         \\nUnusually named—it refers to the price paid ...\n",
       "Author                                                Dave Broom\n",
       "Sale_volume                                                  750\n",
       "Percent_ABV                                                   40\n",
       "Name: 4265, dtype: object"
      ]
     },
     "execution_count": 252,
     "metadata": {},
     "output_type": "execute_result"
    }
   ],
   "source": [
    "Whis_df.iloc[4263, Whis_df.columns.get_loc('Percent_ABV')] = 40\n",
    "\n",
    "Whis_df.iloc[4263]"
   ]
  },
  {
   "cell_type": "code",
   "execution_count": 253,
   "metadata": {},
   "outputs": [
    {
     "data": {
      "text/plain": [
       "Name                         Old Pulteney WK209 ‘Good Hope,’ 46%\n",
       "Score                                                         89\n",
       "Price_USD                                                     63\n",
       "Category                                      Single Malt Scotch\n",
       "Review         \\nWK209 is named after a steam herring drifter...\n",
       "Author                                               Gavin Smith\n",
       "Sale_volume                                                  750\n",
       "Percent_ABV                                                   46\n",
       "Name: 4279, dtype: object"
      ]
     },
     "execution_count": 253,
     "metadata": {},
     "output_type": "execute_result"
    }
   ],
   "source": [
    "Whis_df.iloc[4277, Whis_df.columns.get_loc('Percent_ABV')] = 46\n",
    "\n",
    "Whis_df.iloc[4277]"
   ]
  },
  {
   "cell_type": "code",
   "execution_count": 254,
   "metadata": {},
   "outputs": [
    {
     "data": {
      "text/plain": [
       "Name                                             Murray McDavid \n",
       "Score                                                         89\n",
       "Price_USD                                                    150\n",
       "Category                                      Single Malt Scotch\n",
       "Review         \\nYellow gold color. Fresh, floral aromas (rem...\n",
       "Author                                              John Hansell\n",
       "Sale_volume                                                  750\n",
       "Percent_ABV                                                   40\n",
       "Name: 4318, dtype: object"
      ]
     },
     "execution_count": 254,
     "metadata": {},
     "output_type": "execute_result"
    }
   ],
   "source": [
    "Whis_df.iloc[4316, Whis_df.columns.get_loc('Percent_ABV')] = 40\n",
    "\n",
    "Whis_df.iloc[4316]"
   ]
  },
  {
   "cell_type": "code",
   "execution_count": 255,
   "metadata": {},
   "outputs": [
    {
     "data": {
      "text/plain": [
       "Name                                                   Cadenhead\n",
       "Score                                                         89\n",
       "Price_USD                                                    125\n",
       "Category                                      Single Malt Scotch\n",
       "Review         \\nAntique gold color. Aromas of peat smoke, da...\n",
       "Author                                              John Hansell\n",
       "Sale_volume                                                  750\n",
       "Percent_ABV                                                   40\n",
       "Name: 4368, dtype: object"
      ]
     },
     "execution_count": 255,
     "metadata": {},
     "output_type": "execute_result"
    }
   ],
   "source": [
    "Whis_df.iloc[4366, Whis_df.columns.get_loc('Percent_ABV')] = 40\n",
    "\n",
    "Whis_df.iloc[4366]"
   ]
  },
  {
   "cell_type": "code",
   "execution_count": 256,
   "metadata": {},
   "outputs": [
    {
     "data": {
      "text/plain": [
       "Name           Wemyss Malts ‘Honey Spice’ (distilled at Bunna...\n",
       "Score                                                         88\n",
       "Price_USD                                                     96\n",
       "Category                                      Single Malt Scotch\n",
       "Review         \\nBunnahabhain, along with Bowmore, is Islay’s...\n",
       "Author                                                Dave Broom\n",
       "Sale_volume                                                  750\n",
       "Percent_ABV                                                   40\n",
       "Name: 4391, dtype: object"
      ]
     },
     "execution_count": 256,
     "metadata": {},
     "output_type": "execute_result"
    }
   ],
   "source": [
    "Whis_df.iloc[4389, Whis_df.columns.get_loc('Percent_ABV')] = 40\n",
    "\n",
    "Whis_df.iloc[4389]"
   ]
  },
  {
   "cell_type": "code",
   "execution_count": 257,
   "metadata": {},
   "outputs": [
    {
     "data": {
      "text/plain": [
       "Name                       Arran ‘The Devil’s Punch Bowl,’ 52.3%\n",
       "Score                                                         88\n",
       "Price_USD                                                    130\n",
       "Category                                      Single Malt Scotch\n",
       "Review         \\n6,660 bottles of The Devil’s Punch Bowl have...\n",
       "Author                                               Gavin Smith\n",
       "Sale_volume                                                  750\n",
       "Percent_ABV                                                 52.3\n",
       "Name: 4412, dtype: object"
      ]
     },
     "execution_count": 257,
     "metadata": {},
     "output_type": "execute_result"
    }
   ],
   "source": [
    "Whis_df.iloc[4410, Whis_df.columns.get_loc('Percent_ABV')] = 52.3\n",
    "\n",
    "Whis_df.iloc[4410]"
   ]
  },
  {
   "cell_type": "code",
   "execution_count": 258,
   "metadata": {},
   "outputs": [
    {
     "data": {
      "text/plain": [
       "Name           Blackadder Single Cask #30013 (distilled at Li...\n",
       "Score                                                         88\n",
       "Price_USD                                                    135\n",
       "Category                                      Single Malt Scotch\n",
       "Review         \\nAlso known as St. Magdalene, this Lowland di...\n",
       "Author                                              John Hansell\n",
       "Sale_volume                                                  750\n",
       "Percent_ABV                                                   45\n",
       "Name: 4553, dtype: object"
      ]
     },
     "execution_count": 258,
     "metadata": {},
     "output_type": "execute_result"
    }
   ],
   "source": [
    "Whis_df.iloc[4551, Whis_df.columns.get_loc('Percent_ABV')] = 45\n",
    "\n",
    "Whis_df.iloc[4551]"
   ]
  },
  {
   "cell_type": "code",
   "execution_count": 259,
   "metadata": {},
   "outputs": [
    {
     "data": {
      "text/plain": [
       "Name                     Royal Lochnagar 'Selected Reserve,' 43%\n",
       "Score                                                         87\n",
       "Price_USD                                                    210\n",
       "Category                                      Single Malt Scotch\n",
       "Review         \\nSo nice to see this whisky available here in...\n",
       "Author                                              John Hansell\n",
       "Sale_volume                                                  750\n",
       "Percent_ABV                                                   43\n",
       "Name: 4656, dtype: object"
      ]
     },
     "execution_count": 259,
     "metadata": {},
     "output_type": "execute_result"
    }
   ],
   "source": [
    "Whis_df.iloc[4654, Whis_df.columns.get_loc('Percent_ABV')] = 43\n",
    "\n",
    "Whis_df.iloc[4654]"
   ]
  },
  {
   "cell_type": "code",
   "execution_count": 260,
   "metadata": {},
   "outputs": [
    {
     "data": {
      "text/plain": [
       "Name                              Glenrothes, 1994 Vintage, $43%\n",
       "Score                                                         87\n",
       "Price_USD                                                     78\n",
       "Category                                      Single Malt Scotch\n",
       "Review         \\nVery bright and lively, with a nice balance ...\n",
       "Author                                              John Hansell\n",
       "Sale_volume                                                  750\n",
       "Percent_ABV                                                   43\n",
       "Name: 4664, dtype: object"
      ]
     },
     "execution_count": 260,
     "metadata": {},
     "output_type": "execute_result"
    }
   ],
   "source": [
    "Whis_df.iloc[4662, Whis_df.columns.get_loc('Percent_ABV')] = 43\n",
    "\n",
    "Whis_df.iloc[4662]"
   ]
  },
  {
   "cell_type": "code",
   "execution_count": 261,
   "metadata": {},
   "outputs": [
    {
     "data": {
      "text/plain": [
       "Name                               Ardmore Traditional Cask 1998\n",
       "Score                                                         87\n",
       "Price_USD                                                     50\n",
       "Category                                      Single Malt Scotch\n",
       "Review         \\nA single cask of Ardmore aged in a first-fil...\n",
       "Author                                              John Hansell\n",
       "Sale_volume                                                  750\n",
       "Percent_ABV                                                   40\n",
       "Name: 4669, dtype: object"
      ]
     },
     "execution_count": 261,
     "metadata": {},
     "output_type": "execute_result"
    }
   ],
   "source": [
    "Whis_df.iloc[4667, Whis_df.columns.get_loc('Percent_ABV')] = 40\n",
    "\n",
    "Whis_df.iloc[4667]"
   ]
  },
  {
   "cell_type": "code",
   "execution_count": 262,
   "metadata": {},
   "outputs": [
    {
     "data": {
      "text/plain": [
       "Name           Cask & Thistle 29 year old 1974 Vintage (disti...\n",
       "Score                                                         87\n",
       "Price_USD                                                    110\n",
       "Category                                      Single Malt Scotch\n",
       "Review         \\nA prime component in Dewar’s blended scotch....\n",
       "Author                                              John Hansell\n",
       "Sale_volume                                                  750\n",
       "Percent_ABV                                                   40\n",
       "Name: 4758, dtype: object"
      ]
     },
     "execution_count": 262,
     "metadata": {},
     "output_type": "execute_result"
    }
   ],
   "source": [
    "Whis_df.iloc[4756, Whis_df.columns.get_loc('Percent_ABV')] = 40\n",
    "\n",
    "Whis_df.iloc[4756]"
   ]
  },
  {
   "cell_type": "code",
   "execution_count": 263,
   "metadata": {},
   "outputs": [
    {
     "data": {
      "text/plain": [
       "Name           Wild Scotsman (distilled at Ben Nevis), 13 yea...\n",
       "Score                                                         87\n",
       "Price_USD                                                     70\n",
       "Category                                      Single Malt Scotch\n",
       "Review         \\nVery robust and chewy-this whisky has plenty...\n",
       "Author                                              John Hansell\n",
       "Sale_volume                                                  750\n",
       "Percent_ABV                                                   40\n",
       "Name: 4773, dtype: object"
      ]
     },
     "execution_count": 263,
     "metadata": {},
     "output_type": "execute_result"
    }
   ],
   "source": [
    "Whis_df.iloc[4771, Whis_df.columns.get_loc('Percent_ABV')] = 40\n",
    "\n",
    "Whis_df.iloc[4771]"
   ]
  },
  {
   "cell_type": "code",
   "execution_count": 264,
   "metadata": {},
   "outputs": [
    {
     "data": {
      "text/plain": [
       "Name           Blackadder Single Cask #1101 (distilled at Lon...\n",
       "Score                                                         86\n",
       "Price_USD                                                    135\n",
       "Category                                      Single Malt Scotch\n",
       "Review         \\nA big and sappy Longmorn, with notes of chew...\n",
       "Author                                              John Hansell\n",
       "Sale_volume                                                  750\n",
       "Percent_ABV                                                   45\n",
       "Name: 4989, dtype: object"
      ]
     },
     "execution_count": 264,
     "metadata": {},
     "output_type": "execute_result"
    }
   ],
   "source": [
    "Whis_df.iloc[4987, Whis_df.columns.get_loc('Percent_ABV')] = 45\n",
    "\n",
    "Whis_df.iloc[4987]"
   ]
  },
  {
   "cell_type": "code",
   "execution_count": 265,
   "metadata": {},
   "outputs": [
    {
     "data": {
      "text/plain": [
       "Name           Wemyss Malts (distilled at Glen Scotia) 'Straw...\n",
       "Score                                                         85\n",
       "Price_USD                                                    174\n",
       "Category                                      Single Malt Scotch\n",
       "Review         \\nThis single cask variant of Glen Scotia has ...\n",
       "Author                                               Gavin Smith\n",
       "Sale_volume                                                  750\n",
       "Percent_ABV                                                   46\n",
       "Name: 5025, dtype: object"
      ]
     },
     "execution_count": 265,
     "metadata": {},
     "output_type": "execute_result"
    }
   ],
   "source": [
    "Whis_df.iloc[5023, Whis_df.columns.get_loc('Percent_ABV')] = 46\n",
    "\n",
    "Whis_df.iloc[5023]"
   ]
  },
  {
   "cell_type": "code",
   "execution_count": 266,
   "metadata": {},
   "outputs": [
    {
     "data": {
      "text/plain": [
       "Name           Dun Bheagan (distilled at Caol Ila) 1993 Vinta...\n",
       "Score                                                         85\n",
       "Price_USD                                                     56\n",
       "Category                                      Single Malt Scotch\n",
       "Review         \\nAn unusual Caol Ila, in that it was finished...\n",
       "Author                                              John Hansell\n",
       "Sale_volume                                                  750\n",
       "Percent_ABV                                                   43\n",
       "Name: 5042, dtype: object"
      ]
     },
     "execution_count": 266,
     "metadata": {},
     "output_type": "execute_result"
    }
   ],
   "source": [
    "Whis_df.iloc[5040, Whis_df.columns.get_loc('Percent_ABV')] = 43\n",
    "\n",
    "Whis_df.iloc[5040]"
   ]
  },
  {
   "cell_type": "code",
   "execution_count": 267,
   "metadata": {},
   "outputs": [
    {
     "data": {
      "text/plain": [
       "Name                       The Glenrothes, 1992 Vintage, 43% ABV\n",
       "Score                                                         85\n",
       "Price_USD                                                     55\n",
       "Category                                      Single Malt Scotch\n",
       "Review         \\nA very fragrant, fruity whisky (orange, tang...\n",
       "Author                                              John Hansell\n",
       "Sale_volume                                                  750\n",
       "Percent_ABV                                                   43\n",
       "Name: 5118, dtype: object"
      ]
     },
     "execution_count": 267,
     "metadata": {},
     "output_type": "execute_result"
    }
   ],
   "source": [
    "Whis_df.iloc[5116, Whis_df.columns.get_loc('Percent_ABV')] = 43\n",
    "\n",
    "Whis_df.iloc[5116]"
   ]
  },
  {
   "cell_type": "code",
   "execution_count": 268,
   "metadata": {},
   "outputs": [
    {
     "data": {
      "text/plain": [
       "Name           Gordon & MacPhail Single Cask #12274 (distille...\n",
       "Score                                                         85\n",
       "Price_USD                                                     65\n",
       "Category                                      Single Malt Scotch\n",
       "Review         \\nArdmore whiskies I’ve enjoyed in the past ha...\n",
       "Author                                              John Hansell\n",
       "Sale_volume                                                  750\n",
       "Percent_ABV                                                 56.4\n",
       "Name: 5140, dtype: object"
      ]
     },
     "execution_count": 268,
     "metadata": {},
     "output_type": "execute_result"
    }
   ],
   "source": [
    "Whis_df.iloc[5138, Whis_df.columns.get_loc('Percent_ABV')] = 56.4\n",
    "\n",
    "Whis_df.iloc[5138]"
   ]
  },
  {
   "cell_type": "code",
   "execution_count": 269,
   "metadata": {},
   "outputs": [
    {
     "data": {
      "text/plain": [
       "Name           Duncan Taylor NC2 (distilled at Imperial) 1997...\n",
       "Score                                                         85\n",
       "Price_USD                                                     60\n",
       "Category                                      Single Malt Scotch\n",
       "Review         \\nPale straw. One of a seemingly never-ending ...\n",
       "Author                                                Dave Broom\n",
       "Sale_volume                                                  750\n",
       "Percent_ABV                                                   40\n",
       "Name: 5142, dtype: object"
      ]
     },
     "execution_count": 269,
     "metadata": {},
     "output_type": "execute_result"
    }
   ],
   "source": [
    "Whis_df.iloc[5140, Whis_df.columns.get_loc('Percent_ABV')] = 40\n",
    "\n",
    "Whis_df.iloc[5140]"
   ]
  },
  {
   "cell_type": "code",
   "execution_count": 270,
   "metadata": {},
   "outputs": [
    {
     "data": {
      "text/plain": [
       "Name           Montgomerie's Single Cask #910 (distilled at B...\n",
       "Score                                                         85\n",
       "Price_USD                                                     65\n",
       "Category                                      Single Malt Scotch\n",
       "Review         \\n(Exclusive to Park Ave Liquors, New York, NY...\n",
       "Author                                              John Hansell\n",
       "Sale_volume                                                  750\n",
       "Percent_ABV                                                 59.1\n",
       "Name: 5156, dtype: object"
      ]
     },
     "execution_count": 270,
     "metadata": {},
     "output_type": "execute_result"
    }
   ],
   "source": [
    "Whis_df.iloc[5154, Whis_df.columns.get_loc('Percent_ABV')] = 59.1\n",
    "\n",
    "Whis_df.iloc[5154]"
   ]
  },
  {
   "cell_type": "code",
   "execution_count": 271,
   "metadata": {},
   "outputs": [
    {
     "data": {
      "text/plain": [
       "Name           Gordon & MacPhail Single Cask #1961 (distilled...\n",
       "Score                                                         84\n",
       "Price_USD                                                     65\n",
       "Category                                      Single Malt Scotch\n",
       "Review         \\nIt is unusual to find a Bruichladdich whisky...\n",
       "Author                                              John Hansell\n",
       "Sale_volume                                                  750\n",
       "Percent_ABV                                                 57.9\n",
       "Name: 5200, dtype: object"
      ]
     },
     "execution_count": 271,
     "metadata": {},
     "output_type": "execute_result"
    }
   ],
   "source": [
    "Whis_df.iloc[5198, Whis_df.columns.get_loc('Percent_ABV')] = 57.9\n",
    "\n",
    "Whis_df.iloc[5198]"
   ]
  },
  {
   "cell_type": "code",
   "execution_count": 272,
   "metadata": {},
   "outputs": [
    {
     "data": {
      "text/plain": [
       "Name                        Wemyss Malts ‘Caribbean Fruits,’ 46%\n",
       "Score                                                         84\n",
       "Price_USD                                                    127\n",
       "Category                                      Single Malt Scotch\n",
       "Review         \\nWemyss Malts names the sources of these sing...\n",
       "Author                                               Gavin Smith\n",
       "Sale_volume                                                  750\n",
       "Percent_ABV                                                   46\n",
       "Name: 5217, dtype: object"
      ]
     },
     "execution_count": 272,
     "metadata": {},
     "output_type": "execute_result"
    }
   ],
   "source": [
    "Whis_df.iloc[5215, Whis_df.columns.get_loc('Percent_ABV')] = 46\n",
    "\n",
    "Whis_df.iloc[5215]"
   ]
  },
  {
   "cell_type": "code",
   "execution_count": 273,
   "metadata": {},
   "outputs": [
    {
     "data": {
      "text/plain": [
       "Name                              Edradour 'Ballechin (#4),' 46%\n",
       "Score                                                         84\n",
       "Price_USD                                                    100\n",
       "Category                                      Single Malt Scotch\n",
       "Review         \\nThe fourth release of peated Edradour whisky...\n",
       "Author                                              John Hansell\n",
       "Sale_volume                                                  750\n",
       "Percent_ABV                                                   46\n",
       "Name: 5223, dtype: object"
      ]
     },
     "execution_count": 273,
     "metadata": {},
     "output_type": "execute_result"
    }
   ],
   "source": [
    "Whis_df.iloc[5221, Whis_df.columns.get_loc('Percent_ABV')] = 46\n",
    "\n",
    "Whis_df.iloc[5221]"
   ]
  },
  {
   "cell_type": "code",
   "execution_count": 274,
   "metadata": {},
   "outputs": [
    {
     "data": {
      "text/plain": [
       "Name           Duncan Taylor (distilled at Glen Grant) 1972 V...\n",
       "Score                                                         83\n",
       "Price_USD                                                    155\n",
       "Category                                      Single Malt Scotch\n",
       "Review         \\nI don’t normally like to add water to old wh...\n",
       "Author                                              John Hansell\n",
       "Sale_volume                                                  750\n",
       "Percent_ABV                                                 56.1\n",
       "Name: 5361, dtype: object"
      ]
     },
     "execution_count": 274,
     "metadata": {},
     "output_type": "execute_result"
    }
   ],
   "source": [
    "Whis_df.iloc[5359, Whis_df.columns.get_loc('Percent_ABV')] = 56.1\n",
    "\n",
    "Whis_df.iloc[5359]"
   ]
  },
  {
   "cell_type": "code",
   "execution_count": 275,
   "metadata": {},
   "outputs": [
    {
     "data": {
      "text/plain": [
       "Name                                   The Macallan Whisky Maker\n",
       "Score                                                         83\n",
       "Price_USD                                                     90\n",
       "Category                                      Single Malt Scotch\n",
       "Review         \\nFull gold. Oily in texture, with ripe barley...\n",
       "Author                                              John Hansell\n",
       "Sale_volume                                                  750\n",
       "Percent_ABV                                                   40\n",
       "Name: 5424, dtype: object"
      ]
     },
     "execution_count": 275,
     "metadata": {},
     "output_type": "execute_result"
    }
   ],
   "source": [
    "Whis_df.iloc[5422, Whis_df.columns.get_loc('Percent_ABV')] = 40\n",
    "\n",
    "Whis_df.iloc[5422]"
   ]
  },
  {
   "cell_type": "code",
   "execution_count": 276,
   "metadata": {},
   "outputs": [
    {
     "data": {
      "text/plain": [
       "Name                          The Speyside, 12 year old, 43% ABV\n",
       "Score                                                         82\n",
       "Price_USD                                                     30\n",
       "Category                                      Single Malt Scotch\n",
       "Review         \\nA relative newcomer to the Scotch whisky ind...\n",
       "Author                                              John Hansell\n",
       "Sale_volume                                                  750\n",
       "Percent_ABV                                                   43\n",
       "Name: 5458, dtype: object"
      ]
     },
     "execution_count": 276,
     "metadata": {},
     "output_type": "execute_result"
    }
   ],
   "source": [
    "Whis_df.iloc[5456, Whis_df.columns.get_loc('Percent_ABV')] = 43\n",
    "\n",
    "Whis_df.iloc[5456]"
   ]
  },
  {
   "cell_type": "code",
   "execution_count": 277,
   "metadata": {},
   "outputs": [
    {
     "data": {
      "text/plain": [
       "Name                               Tormore, 12 year old, 40% ABV\n",
       "Score                                                         82\n",
       "Price_USD                                                     42\n",
       "Category                                      Single Malt Scotch\n",
       "Review         \\nSoft and creamy in texture. A delicate mélan...\n",
       "Author                                              John Hansell\n",
       "Sale_volume                                                  750\n",
       "Percent_ABV                                                   40\n",
       "Name: 5466, dtype: object"
      ]
     },
     "execution_count": 277,
     "metadata": {},
     "output_type": "execute_result"
    }
   ],
   "source": [
    "Whis_df.iloc[5464, Whis_df.columns.get_loc('Percent_ABV')] = 40\n",
    "\n",
    "Whis_df.iloc[5464]"
   ]
  },
  {
   "cell_type": "code",
   "execution_count": 278,
   "metadata": {},
   "outputs": [
    {
     "data": {
      "text/plain": [
       "Name           Gordon & MacPhail Single Cask #5054 (distilled...\n",
       "Score                                                         82\n",
       "Price_USD                                                     65\n",
       "Category                                      Single Malt Scotch\n",
       "Review         \\nHere’s a whisky not seen very often in the U...\n",
       "Author                                              John Hansell\n",
       "Sale_volume                                                  750\n",
       "Percent_ABV                                                   56\n",
       "Name: 5469, dtype: object"
      ]
     },
     "execution_count": 278,
     "metadata": {},
     "output_type": "execute_result"
    }
   ],
   "source": [
    "Whis_df.iloc[5467, Whis_df.columns.get_loc('Percent_ABV')] = 56\n",
    "\n",
    "Whis_df.iloc[5467]"
   ]
  },
  {
   "cell_type": "code",
   "execution_count": 279,
   "metadata": {},
   "outputs": [
    {
     "data": {
      "text/plain": [
       "Name           Gordon & MacPhail (distilled at Glenlossie), 2...\n",
       "Score                                                         82\n",
       "Price_USD                                                     90\n",
       "Category                                      Single Malt Scotch\n",
       "Review         \\nFirm on the palate and quite mature. Good ba...\n",
       "Author                                              John Hansell\n",
       "Sale_volume                                                  750\n",
       "Percent_ABV                                                   40\n",
       "Name: 5481, dtype: object"
      ]
     },
     "execution_count": 279,
     "metadata": {},
     "output_type": "execute_result"
    }
   ],
   "source": [
    "Whis_df.iloc[5479, Whis_df.columns.get_loc('Percent_ABV')] = 40\n",
    "\n",
    "Whis_df.iloc[5479]"
   ]
  },
  {
   "cell_type": "code",
   "execution_count": 280,
   "metadata": {},
   "outputs": [
    {
     "data": {
      "text/plain": [
       "Name           Blackadder Raw Cask #6437 (distilled at Glen G...\n",
       "Score                                                         81\n",
       "Price_USD                                                    175\n",
       "Category                                      Single Malt Scotch\n",
       "Review         \\nFrom a sherry hogshead, which is confirmed b...\n",
       "Author                                              John Hansell\n",
       "Sale_volume                                                  750\n",
       "Percent_ABV                                                 55.7\n",
       "Name: 5542, dtype: object"
      ]
     },
     "execution_count": 280,
     "metadata": {},
     "output_type": "execute_result"
    }
   ],
   "source": [
    "Whis_df.iloc[5540, Whis_df.columns.get_loc('Percent_ABV')] = 55.7\n",
    "\n",
    "Whis_df.iloc[5540]"
   ]
  },
  {
   "cell_type": "code",
   "execution_count": 281,
   "metadata": {},
   "outputs": [
    {
     "data": {
      "text/plain": [
       "Name           Hart Brothers (distilled at Glenturret), 10 ye...\n",
       "Score                                                         81\n",
       "Price_USD                                                     63\n",
       "Category                                      Single Malt Scotch\n",
       "Review         \\nVery fragrant and floral, with bright notes ...\n",
       "Author                                              John Hansell\n",
       "Sale_volume                                                  750\n",
       "Percent_ABV                                                 53.6\n",
       "Name: 5558, dtype: object"
      ]
     },
     "execution_count": 281,
     "metadata": {},
     "output_type": "execute_result"
    }
   ],
   "source": [
    "Whis_df.iloc[5556, Whis_df.columns.get_loc('Percent_ABV')] = 53.6\n",
    "\n",
    "Whis_df.iloc[5556]"
   ]
  },
  {
   "cell_type": "code",
   "execution_count": 282,
   "metadata": {},
   "outputs": [
    {
     "data": {
      "text/plain": [
       "Name           Berry Brothers & Rudd (distilled at Cragganmor...\n",
       "Score                                                         81\n",
       "Price_USD                                                     93\n",
       "Category                                      Single Malt Scotch\n",
       "Review         \\nLight straw. Initially this is quite hot and...\n",
       "Author                                                Dave Broom\n",
       "Sale_volume                                                  750\n",
       "Percent_ABV                                                   40\n",
       "Name: 5562, dtype: object"
      ]
     },
     "execution_count": 282,
     "metadata": {},
     "output_type": "execute_result"
    }
   ],
   "source": [
    "Whis_df.iloc[5560, Whis_df.columns.get_loc('Percent_ABV')] = 40\n",
    "\n",
    "Whis_df.iloc[5560]"
   ]
  },
  {
   "cell_type": "code",
   "execution_count": 283,
   "metadata": {},
   "outputs": [
    {
     "data": {
      "text/plain": [
       "Name           Gordon & MacPhail Single Cask #1535 (distilled...\n",
       "Score                                                         80\n",
       "Price_USD                                                     80\n",
       "Category                                      Single Malt Scotch\n",
       "Review         \\nA very traditional Rosebank-aged in a refill...\n",
       "Author                                              John Hansell\n",
       "Sale_volume                                                  750\n",
       "Percent_ABV                                                 59.2\n",
       "Name: 5580, dtype: object"
      ]
     },
     "execution_count": 283,
     "metadata": {},
     "output_type": "execute_result"
    }
   ],
   "source": [
    "Whis_df.iloc[5578, Whis_df.columns.get_loc('Percent_ABV')] = 59.2\n",
    "\n",
    "Whis_df.iloc[5578]"
   ]
  },
  {
   "cell_type": "code",
   "execution_count": 284,
   "metadata": {},
   "outputs": [
    {
     "data": {
      "text/plain": [
       "Name                               Mackmyra Swedish whisky 46.1%\n",
       "Score                                                         88\n",
       "Price_USD                                                     55\n",
       "Category                              Single Malt Swedish Whisky\n",
       "Review         \\nMackmyra has at long last reached the United...\n",
       "Author                                           Dominic Roskrow\n",
       "Sale_volume                                                  750\n",
       "Percent_ABV                                                 46.1\n",
       "Name: 5723, dtype: object"
      ]
     },
     "execution_count": 284,
     "metadata": {},
     "output_type": "execute_result"
    }
   ],
   "source": [
    "Whis_df.iloc[5721, Whis_df.columns.get_loc('Percent_ABV')] = 46.1\n",
    "\n",
    "Whis_df.iloc[5721]"
   ]
  },
  {
   "cell_type": "code",
   "execution_count": 285,
   "metadata": {
    "scrolled": true
   },
   "outputs": [
    {
     "data": {
      "text/plain": [
       "Name                                                 Blackadder \n",
       "Score                                                         80\n",
       "Price_USD                                                     90\n",
       "Category                                 Unspecified Single Malt\n",
       "Review         \\nVery pale gold color. Aggressive notes of ta...\n",
       "Author                                              John Hansell\n",
       "Sale_volume                                                  750\n",
       "Percent_ABV                                                   40\n",
       "Name: 5807, dtype: object"
      ]
     },
     "execution_count": 285,
     "metadata": {},
     "output_type": "execute_result"
    }
   ],
   "source": [
    "Whis_df.iloc[5805, Whis_df.columns.get_loc('Percent_ABV')] = 40\n",
    "\n",
    "Whis_df.iloc[5805]"
   ]
  },
  {
   "cell_type": "code",
   "execution_count": 286,
   "metadata": {},
   "outputs": [
    {
     "data": {
      "text/plain": [
       "Name            object\n",
       "Score            int64\n",
       "Price_USD      float64\n",
       "Category        object\n",
       "Review          object\n",
       "Author          object\n",
       "Sale_volume     object\n",
       "Percent_ABV    float64\n",
       "dtype: object"
      ]
     },
     "execution_count": 286,
     "metadata": {},
     "output_type": "execute_result"
    }
   ],
   "source": [
    "Whis_df['Percent_ABV'] = pd.to_numeric(Whis_df['Percent_ABV'])\n",
    "\n",
    "Whis_df.dtypes"
   ]
  },
  {
   "cell_type": "code",
   "execution_count": 287,
   "metadata": {},
   "outputs": [
    {
     "data": {
      "text/html": [
       "<div>\n",
       "<style scoped>\n",
       "    .dataframe tbody tr th:only-of-type {\n",
       "        vertical-align: middle;\n",
       "    }\n",
       "\n",
       "    .dataframe tbody tr th {\n",
       "        vertical-align: top;\n",
       "    }\n",
       "\n",
       "    .dataframe thead th {\n",
       "        text-align: right;\n",
       "    }\n",
       "</style>\n",
       "<table border=\"1\" class=\"dataframe\">\n",
       "  <thead>\n",
       "    <tr style=\"text-align: right;\">\n",
       "      <th></th>\n",
       "      <th>Name</th>\n",
       "      <th>Score</th>\n",
       "      <th>Price_USD</th>\n",
       "      <th>Category</th>\n",
       "      <th>Review</th>\n",
       "      <th>Author</th>\n",
       "      <th>Sale_volume</th>\n",
       "      <th>Percent_ABV</th>\n",
       "    </tr>\n",
       "  </thead>\n",
       "  <tbody>\n",
       "    <tr>\n",
       "      <th>0</th>\n",
       "      <td>Spirit Hound Single Barrel Straight Malt (Barr...</td>\n",
       "      <td>88</td>\n",
       "      <td>55.0</td>\n",
       "      <td>American Malt Whiskey</td>\n",
       "      <td>\\nFloral with some hoppy aromas to start, as w...</td>\n",
       "      <td>Susannah Skiver Barton</td>\n",
       "      <td>750</td>\n",
       "      <td>45.0</td>\n",
       "    </tr>\n",
       "    <tr>\n",
       "      <th>1</th>\n",
       "      <td>Dogfish Head Straight Malt, 40%</td>\n",
       "      <td>87</td>\n",
       "      <td>40.0</td>\n",
       "      <td>American Malt Whiskey</td>\n",
       "      <td>\\nLots of confectionary notes on the nose: ora...</td>\n",
       "      <td>Susannah Skiver Barton</td>\n",
       "      <td>750</td>\n",
       "      <td>40.0</td>\n",
       "    </tr>\n",
       "    <tr>\n",
       "      <th>2</th>\n",
       "      <td>Balcones Texas Bock Straight Malt Whiskey, 50%</td>\n",
       "      <td>87</td>\n",
       "      <td>40.0</td>\n",
       "      <td>American Malt Whiskey</td>\n",
       "      <td>\\nBalcones has partnered with fellow Texan Spo...</td>\n",
       "      <td>David Fleming</td>\n",
       "      <td>750</td>\n",
       "      <td>50.0</td>\n",
       "    </tr>\n",
       "    <tr>\n",
       "      <th>3</th>\n",
       "      <td>Woodford Reserve Straight Malt Whiskey, 45.2%</td>\n",
       "      <td>86</td>\n",
       "      <td>35.0</td>\n",
       "      <td>American Malt Whiskey</td>\n",
       "      <td>\\nThis malt whiskey shows some maple syrup and...</td>\n",
       "      <td>Jeffery Lindenmuth</td>\n",
       "      <td>750</td>\n",
       "      <td>45.2</td>\n",
       "    </tr>\n",
       "    <tr>\n",
       "      <th>4</th>\n",
       "      <td>Spirit Hound Colorado Honey Malt (Barrel No. 4...</td>\n",
       "      <td>85</td>\n",
       "      <td>65.0</td>\n",
       "      <td>American Malt Whiskey</td>\n",
       "      <td>\\nStraight malt whiskey finished in barrels th...</td>\n",
       "      <td>Susannah Skiver Barton</td>\n",
       "      <td>750</td>\n",
       "      <td>45.0</td>\n",
       "    </tr>\n",
       "  </tbody>\n",
       "</table>\n",
       "</div>"
      ],
      "text/plain": [
       "                                                Name  Score  Price_USD  \\\n",
       "0  Spirit Hound Single Barrel Straight Malt (Barr...     88       55.0   \n",
       "1                    Dogfish Head Straight Malt, 40%     87       40.0   \n",
       "2     Balcones Texas Bock Straight Malt Whiskey, 50%     87       40.0   \n",
       "3      Woodford Reserve Straight Malt Whiskey, 45.2%     86       35.0   \n",
       "4  Spirit Hound Colorado Honey Malt (Barrel No. 4...     85       65.0   \n",
       "\n",
       "                Category                                             Review  \\\n",
       "0  American Malt Whiskey  \\nFloral with some hoppy aromas to start, as w...   \n",
       "1  American Malt Whiskey  \\nLots of confectionary notes on the nose: ora...   \n",
       "2  American Malt Whiskey  \\nBalcones has partnered with fellow Texan Spo...   \n",
       "3  American Malt Whiskey  \\nThis malt whiskey shows some maple syrup and...   \n",
       "4  American Malt Whiskey  \\nStraight malt whiskey finished in barrels th...   \n",
       "\n",
       "                   Author Sale_volume  Percent_ABV  \n",
       "0  Susannah Skiver Barton         750         45.0  \n",
       "1  Susannah Skiver Barton         750         40.0  \n",
       "2           David Fleming         750         50.0  \n",
       "3      Jeffery Lindenmuth         750         45.2  \n",
       "4  Susannah Skiver Barton         750         45.0  "
      ]
     },
     "execution_count": 287,
     "metadata": {},
     "output_type": "execute_result"
    }
   ],
   "source": [
    "Whis_df.head()"
   ]
  },
  {
   "cell_type": "code",
   "execution_count": 288,
   "metadata": {},
   "outputs": [],
   "source": [
    "#write out clean dataset\n",
    "\n",
    "\n",
    "#Whis_df.to_csv('desktop/independant_projects/whiskey_data_scraper/clean_whiskey_data1.csv', index = False)\n"
   ]
  },
  {
   "cell_type": "code",
   "execution_count": 289,
   "metadata": {},
   "outputs": [
    {
     "data": {
      "text/html": [
       "<div>\n",
       "<style scoped>\n",
       "    .dataframe tbody tr th:only-of-type {\n",
       "        vertical-align: middle;\n",
       "    }\n",
       "\n",
       "    .dataframe tbody tr th {\n",
       "        vertical-align: top;\n",
       "    }\n",
       "\n",
       "    .dataframe thead th {\n",
       "        text-align: right;\n",
       "    }\n",
       "</style>\n",
       "<table border=\"1\" class=\"dataframe\">\n",
       "  <thead>\n",
       "    <tr style=\"text-align: right;\">\n",
       "      <th></th>\n",
       "      <th>Name</th>\n",
       "      <th>Score</th>\n",
       "      <th>Price_USD</th>\n",
       "      <th>Category</th>\n",
       "      <th>Review</th>\n",
       "      <th>Author</th>\n",
       "      <th>Sale_volume</th>\n",
       "      <th>Percent_ABV</th>\n",
       "    </tr>\n",
       "  </thead>\n",
       "  <tbody>\n",
       "    <tr>\n",
       "      <th>0</th>\n",
       "      <td>Spirit Hound Single Barrel Straight Malt (Barr...</td>\n",
       "      <td>88</td>\n",
       "      <td>55.0</td>\n",
       "      <td>American Malt Whiskey</td>\n",
       "      <td>\\nFloral with some hoppy aromas to start, as w...</td>\n",
       "      <td>Susannah Skiver Barton</td>\n",
       "      <td>750</td>\n",
       "      <td>45.0</td>\n",
       "    </tr>\n",
       "    <tr>\n",
       "      <th>1</th>\n",
       "      <td>Dogfish Head Straight Malt, 40%</td>\n",
       "      <td>87</td>\n",
       "      <td>40.0</td>\n",
       "      <td>American Malt Whiskey</td>\n",
       "      <td>\\nLots of confectionary notes on the nose: ora...</td>\n",
       "      <td>Susannah Skiver Barton</td>\n",
       "      <td>750</td>\n",
       "      <td>40.0</td>\n",
       "    </tr>\n",
       "    <tr>\n",
       "      <th>2</th>\n",
       "      <td>Balcones Texas Bock Straight Malt Whiskey, 50%</td>\n",
       "      <td>87</td>\n",
       "      <td>40.0</td>\n",
       "      <td>American Malt Whiskey</td>\n",
       "      <td>\\nBalcones has partnered with fellow Texan Spo...</td>\n",
       "      <td>David Fleming</td>\n",
       "      <td>750</td>\n",
       "      <td>50.0</td>\n",
       "    </tr>\n",
       "    <tr>\n",
       "      <th>3</th>\n",
       "      <td>Woodford Reserve Straight Malt Whiskey, 45.2%</td>\n",
       "      <td>86</td>\n",
       "      <td>35.0</td>\n",
       "      <td>American Malt Whiskey</td>\n",
       "      <td>\\nThis malt whiskey shows some maple syrup and...</td>\n",
       "      <td>Jeffery Lindenmuth</td>\n",
       "      <td>750</td>\n",
       "      <td>45.2</td>\n",
       "    </tr>\n",
       "    <tr>\n",
       "      <th>4</th>\n",
       "      <td>Spirit Hound Colorado Honey Malt (Barrel No. 4...</td>\n",
       "      <td>85</td>\n",
       "      <td>65.0</td>\n",
       "      <td>American Malt Whiskey</td>\n",
       "      <td>\\nStraight malt whiskey finished in barrels th...</td>\n",
       "      <td>Susannah Skiver Barton</td>\n",
       "      <td>750</td>\n",
       "      <td>45.0</td>\n",
       "    </tr>\n",
       "    <tr>\n",
       "      <th>...</th>\n",
       "      <td>...</td>\n",
       "      <td>...</td>\n",
       "      <td>...</td>\n",
       "      <td>...</td>\n",
       "      <td>...</td>\n",
       "      <td>...</td>\n",
       "      <td>...</td>\n",
       "      <td>...</td>\n",
       "    </tr>\n",
       "    <tr>\n",
       "      <th>5900</th>\n",
       "      <td>World Whiskey Society Goalong 5 year old Bourb...</td>\n",
       "      <td>86</td>\n",
       "      <td>150.0</td>\n",
       "      <td>World Whisky</td>\n",
       "      <td>\\n\\nThe first Chinese single malt to be export...</td>\n",
       "      <td>Susannah Skiver Barton</td>\n",
       "      <td>750</td>\n",
       "      <td>40.0</td>\n",
       "    </tr>\n",
       "    <tr>\n",
       "      <th>5901</th>\n",
       "      <td>Sierra Norte Single Barrel White, 45%</td>\n",
       "      <td>86</td>\n",
       "      <td>50.0</td>\n",
       "      <td>World Whisky</td>\n",
       "      <td>\\nWhite has the most familiar corn whiskey cha...</td>\n",
       "      <td>Jonny McCormick</td>\n",
       "      <td>750</td>\n",
       "      <td>45.0</td>\n",
       "    </tr>\n",
       "    <tr>\n",
       "      <th>5902</th>\n",
       "      <td>Sierra Norte Single Barrel Purple Corn, 45%</td>\n",
       "      <td>85</td>\n",
       "      <td>50.0</td>\n",
       "      <td>World Whisky</td>\n",
       "      <td>\\nPepper and allspice light up with savory bri...</td>\n",
       "      <td>Jonny McCormick</td>\n",
       "      <td>750</td>\n",
       "      <td>45.0</td>\n",
       "    </tr>\n",
       "    <tr>\n",
       "      <th>5903</th>\n",
       "      <td>That Boutique-y Whisky Company (distilled at S...</td>\n",
       "      <td>85</td>\n",
       "      <td>90.0</td>\n",
       "      <td>World Whisky</td>\n",
       "      <td>\\nWhite pepper-dappled summer fruits on the no...</td>\n",
       "      <td>Jonny McCormick</td>\n",
       "      <td>750</td>\n",
       "      <td>52.5</td>\n",
       "    </tr>\n",
       "    <tr>\n",
       "      <th>5904</th>\n",
       "      <td>Abasolo 100% Ancestral Corn Whiskey, 43%</td>\n",
       "      <td>82</td>\n",
       "      <td>40.0</td>\n",
       "      <td>World Whisky</td>\n",
       "      <td>\\n\\r\\n\\r\\nMade from nixtamalized corn (a proce...</td>\n",
       "      <td>Susannah Skiver Barton</td>\n",
       "      <td>750</td>\n",
       "      <td>43.0</td>\n",
       "    </tr>\n",
       "  </tbody>\n",
       "</table>\n",
       "<p>5903 rows × 8 columns</p>\n",
       "</div>"
      ],
      "text/plain": [
       "                                                   Name  Score  Price_USD  \\\n",
       "0     Spirit Hound Single Barrel Straight Malt (Barr...     88       55.0   \n",
       "1                       Dogfish Head Straight Malt, 40%     87       40.0   \n",
       "2        Balcones Texas Bock Straight Malt Whiskey, 50%     87       40.0   \n",
       "3         Woodford Reserve Straight Malt Whiskey, 45.2%     86       35.0   \n",
       "4     Spirit Hound Colorado Honey Malt (Barrel No. 4...     85       65.0   \n",
       "...                                                 ...    ...        ...   \n",
       "5900  World Whiskey Society Goalong 5 year old Bourb...     86      150.0   \n",
       "5901              Sierra Norte Single Barrel White, 45%     86       50.0   \n",
       "5902        Sierra Norte Single Barrel Purple Corn, 45%     85       50.0   \n",
       "5903  That Boutique-y Whisky Company (distilled at S...     85       90.0   \n",
       "5904           Abasolo 100% Ancestral Corn Whiskey, 43%     82       40.0   \n",
       "\n",
       "                   Category  \\\n",
       "0     American Malt Whiskey   \n",
       "1     American Malt Whiskey   \n",
       "2     American Malt Whiskey   \n",
       "3     American Malt Whiskey   \n",
       "4     American Malt Whiskey   \n",
       "...                     ...   \n",
       "5900           World Whisky   \n",
       "5901           World Whisky   \n",
       "5902           World Whisky   \n",
       "5903           World Whisky   \n",
       "5904           World Whisky   \n",
       "\n",
       "                                                 Review  \\\n",
       "0     \\nFloral with some hoppy aromas to start, as w...   \n",
       "1     \\nLots of confectionary notes on the nose: ora...   \n",
       "2     \\nBalcones has partnered with fellow Texan Spo...   \n",
       "3     \\nThis malt whiskey shows some maple syrup and...   \n",
       "4     \\nStraight malt whiskey finished in barrels th...   \n",
       "...                                                 ...   \n",
       "5900  \\n\\nThe first Chinese single malt to be export...   \n",
       "5901  \\nWhite has the most familiar corn whiskey cha...   \n",
       "5902  \\nPepper and allspice light up with savory bri...   \n",
       "5903  \\nWhite pepper-dappled summer fruits on the no...   \n",
       "5904  \\n\\r\\n\\r\\nMade from nixtamalized corn (a proce...   \n",
       "\n",
       "                      Author Sale_volume  Percent_ABV  \n",
       "0     Susannah Skiver Barton         750         45.0  \n",
       "1     Susannah Skiver Barton         750         40.0  \n",
       "2              David Fleming         750         50.0  \n",
       "3         Jeffery Lindenmuth         750         45.2  \n",
       "4     Susannah Skiver Barton         750         45.0  \n",
       "...                      ...         ...          ...  \n",
       "5900  Susannah Skiver Barton         750         40.0  \n",
       "5901         Jonny McCormick         750         45.0  \n",
       "5902         Jonny McCormick         750         45.0  \n",
       "5903         Jonny McCormick         750         52.5  \n",
       "5904  Susannah Skiver Barton         750         43.0  \n",
       "\n",
       "[5903 rows x 8 columns]"
      ]
     },
     "execution_count": 289,
     "metadata": {},
     "output_type": "execute_result"
    }
   ],
   "source": [
    "Whis_df"
   ]
  },
  {
   "cell_type": "code",
   "execution_count": 290,
   "metadata": {},
   "outputs": [
    {
     "data": {
      "text/plain": [
       "<bound method IndexOpsMixin.value_counts of 0       Spirit Hound Single Barrel Straight Malt (Barr...\n",
       "1                         Dogfish Head Straight Malt, 40%\n",
       "2          Balcones Texas Bock Straight Malt Whiskey, 50%\n",
       "3           Woodford Reserve Straight Malt Whiskey, 45.2%\n",
       "4       Spirit Hound Colorado Honey Malt (Barrel No. 4...\n",
       "                              ...                        \n",
       "5900    World Whiskey Society Goalong 5 year old Bourb...\n",
       "5901                Sierra Norte Single Barrel White, 45%\n",
       "5902          Sierra Norte Single Barrel Purple Corn, 45%\n",
       "5903    That Boutique-y Whisky Company (distilled at S...\n",
       "5904             Abasolo 100% Ancestral Corn Whiskey, 43%\n",
       "Name: Name, Length: 5903, dtype: object>"
      ]
     },
     "execution_count": 290,
     "metadata": {},
     "output_type": "execute_result"
    }
   ],
   "source": [
    "Whis_df['Name'].value_counts"
   ]
  },
  {
   "cell_type": "code",
   "execution_count": 291,
   "metadata": {},
   "outputs": [
    {
     "data": {
      "text/html": [
       "<div>\n",
       "<style scoped>\n",
       "    .dataframe tbody tr th:only-of-type {\n",
       "        vertical-align: middle;\n",
       "    }\n",
       "\n",
       "    .dataframe tbody tr th {\n",
       "        vertical-align: top;\n",
       "    }\n",
       "\n",
       "    .dataframe thead th {\n",
       "        text-align: right;\n",
       "    }\n",
       "</style>\n",
       "<table border=\"1\" class=\"dataframe\">\n",
       "  <thead>\n",
       "    <tr style=\"text-align: right;\">\n",
       "      <th></th>\n",
       "      <th>Name</th>\n",
       "      <th>Score</th>\n",
       "      <th>Price_USD</th>\n",
       "      <th>Category</th>\n",
       "      <th>Review</th>\n",
       "      <th>Author</th>\n",
       "      <th>Sale_volume</th>\n",
       "      <th>Percent_ABV</th>\n",
       "    </tr>\n",
       "  </thead>\n",
       "  <tbody>\n",
       "    <tr>\n",
       "      <th>0</th>\n",
       "      <td>Spirit Hound Single Barrel Straight Malt (Barr...</td>\n",
       "      <td>88</td>\n",
       "      <td>55.0</td>\n",
       "      <td>American Malt Whiskey</td>\n",
       "      <td>\\nFloral with some hoppy aromas to start, as w...</td>\n",
       "      <td>Susannah Skiver Barton</td>\n",
       "      <td>750</td>\n",
       "      <td>45.0</td>\n",
       "    </tr>\n",
       "    <tr>\n",
       "      <th>1</th>\n",
       "      <td>Dogfish Head Straight Malt, 40%</td>\n",
       "      <td>87</td>\n",
       "      <td>40.0</td>\n",
       "      <td>American Malt Whiskey</td>\n",
       "      <td>\\nLots of confectionary notes on the nose: ora...</td>\n",
       "      <td>Susannah Skiver Barton</td>\n",
       "      <td>750</td>\n",
       "      <td>40.0</td>\n",
       "    </tr>\n",
       "    <tr>\n",
       "      <th>2</th>\n",
       "      <td>Balcones Texas Bock Straight Malt Whiskey, 50%</td>\n",
       "      <td>87</td>\n",
       "      <td>40.0</td>\n",
       "      <td>American Malt Whiskey</td>\n",
       "      <td>\\nBalcones has partnered with fellow Texan Spo...</td>\n",
       "      <td>David Fleming</td>\n",
       "      <td>750</td>\n",
       "      <td>50.0</td>\n",
       "    </tr>\n",
       "    <tr>\n",
       "      <th>3</th>\n",
       "      <td>Woodford Reserve Straight Malt Whiskey, 45.2%</td>\n",
       "      <td>86</td>\n",
       "      <td>35.0</td>\n",
       "      <td>American Malt Whiskey</td>\n",
       "      <td>\\nThis malt whiskey shows some maple syrup and...</td>\n",
       "      <td>Jeffery Lindenmuth</td>\n",
       "      <td>750</td>\n",
       "      <td>45.2</td>\n",
       "    </tr>\n",
       "    <tr>\n",
       "      <th>4</th>\n",
       "      <td>Spirit Hound Colorado Honey Malt (Barrel No. 4...</td>\n",
       "      <td>85</td>\n",
       "      <td>65.0</td>\n",
       "      <td>American Malt Whiskey</td>\n",
       "      <td>\\nStraight malt whiskey finished in barrels th...</td>\n",
       "      <td>Susannah Skiver Barton</td>\n",
       "      <td>750</td>\n",
       "      <td>45.0</td>\n",
       "    </tr>\n",
       "    <tr>\n",
       "      <th>...</th>\n",
       "      <td>...</td>\n",
       "      <td>...</td>\n",
       "      <td>...</td>\n",
       "      <td>...</td>\n",
       "      <td>...</td>\n",
       "      <td>...</td>\n",
       "      <td>...</td>\n",
       "      <td>...</td>\n",
       "    </tr>\n",
       "    <tr>\n",
       "      <th>5900</th>\n",
       "      <td>World Whiskey Society Goalong 5 year old Bourb...</td>\n",
       "      <td>86</td>\n",
       "      <td>150.0</td>\n",
       "      <td>World Whisky</td>\n",
       "      <td>\\n\\nThe first Chinese single malt to be export...</td>\n",
       "      <td>Susannah Skiver Barton</td>\n",
       "      <td>750</td>\n",
       "      <td>40.0</td>\n",
       "    </tr>\n",
       "    <tr>\n",
       "      <th>5901</th>\n",
       "      <td>Sierra Norte Single Barrel White, 45%</td>\n",
       "      <td>86</td>\n",
       "      <td>50.0</td>\n",
       "      <td>World Whisky</td>\n",
       "      <td>\\nWhite has the most familiar corn whiskey cha...</td>\n",
       "      <td>Jonny McCormick</td>\n",
       "      <td>750</td>\n",
       "      <td>45.0</td>\n",
       "    </tr>\n",
       "    <tr>\n",
       "      <th>5902</th>\n",
       "      <td>Sierra Norte Single Barrel Purple Corn, 45%</td>\n",
       "      <td>85</td>\n",
       "      <td>50.0</td>\n",
       "      <td>World Whisky</td>\n",
       "      <td>\\nPepper and allspice light up with savory bri...</td>\n",
       "      <td>Jonny McCormick</td>\n",
       "      <td>750</td>\n",
       "      <td>45.0</td>\n",
       "    </tr>\n",
       "    <tr>\n",
       "      <th>5903</th>\n",
       "      <td>That Boutique-y Whisky Company (distilled at S...</td>\n",
       "      <td>85</td>\n",
       "      <td>90.0</td>\n",
       "      <td>World Whisky</td>\n",
       "      <td>\\nWhite pepper-dappled summer fruits on the no...</td>\n",
       "      <td>Jonny McCormick</td>\n",
       "      <td>750</td>\n",
       "      <td>52.5</td>\n",
       "    </tr>\n",
       "    <tr>\n",
       "      <th>5904</th>\n",
       "      <td>Abasolo 100% Ancestral Corn Whiskey, 43%</td>\n",
       "      <td>82</td>\n",
       "      <td>40.0</td>\n",
       "      <td>World Whisky</td>\n",
       "      <td>\\n\\r\\n\\r\\nMade from nixtamalized corn (a proce...</td>\n",
       "      <td>Susannah Skiver Barton</td>\n",
       "      <td>750</td>\n",
       "      <td>43.0</td>\n",
       "    </tr>\n",
       "  </tbody>\n",
       "</table>\n",
       "<p>5900 rows × 8 columns</p>\n",
       "</div>"
      ],
      "text/plain": [
       "                                                   Name  Score  Price_USD  \\\n",
       "0     Spirit Hound Single Barrel Straight Malt (Barr...     88       55.0   \n",
       "1                       Dogfish Head Straight Malt, 40%     87       40.0   \n",
       "2        Balcones Texas Bock Straight Malt Whiskey, 50%     87       40.0   \n",
       "3         Woodford Reserve Straight Malt Whiskey, 45.2%     86       35.0   \n",
       "4     Spirit Hound Colorado Honey Malt (Barrel No. 4...     85       65.0   \n",
       "...                                                 ...    ...        ...   \n",
       "5900  World Whiskey Society Goalong 5 year old Bourb...     86      150.0   \n",
       "5901              Sierra Norte Single Barrel White, 45%     86       50.0   \n",
       "5902        Sierra Norte Single Barrel Purple Corn, 45%     85       50.0   \n",
       "5903  That Boutique-y Whisky Company (distilled at S...     85       90.0   \n",
       "5904           Abasolo 100% Ancestral Corn Whiskey, 43%     82       40.0   \n",
       "\n",
       "                   Category  \\\n",
       "0     American Malt Whiskey   \n",
       "1     American Malt Whiskey   \n",
       "2     American Malt Whiskey   \n",
       "3     American Malt Whiskey   \n",
       "4     American Malt Whiskey   \n",
       "...                     ...   \n",
       "5900           World Whisky   \n",
       "5901           World Whisky   \n",
       "5902           World Whisky   \n",
       "5903           World Whisky   \n",
       "5904           World Whisky   \n",
       "\n",
       "                                                 Review  \\\n",
       "0     \\nFloral with some hoppy aromas to start, as w...   \n",
       "1     \\nLots of confectionary notes on the nose: ora...   \n",
       "2     \\nBalcones has partnered with fellow Texan Spo...   \n",
       "3     \\nThis malt whiskey shows some maple syrup and...   \n",
       "4     \\nStraight malt whiskey finished in barrels th...   \n",
       "...                                                 ...   \n",
       "5900  \\n\\nThe first Chinese single malt to be export...   \n",
       "5901  \\nWhite has the most familiar corn whiskey cha...   \n",
       "5902  \\nPepper and allspice light up with savory bri...   \n",
       "5903  \\nWhite pepper-dappled summer fruits on the no...   \n",
       "5904  \\n\\r\\n\\r\\nMade from nixtamalized corn (a proce...   \n",
       "\n",
       "                      Author Sale_volume  Percent_ABV  \n",
       "0     Susannah Skiver Barton         750         45.0  \n",
       "1     Susannah Skiver Barton         750         40.0  \n",
       "2              David Fleming         750         50.0  \n",
       "3         Jeffery Lindenmuth         750         45.2  \n",
       "4     Susannah Skiver Barton         750         45.0  \n",
       "...                      ...         ...          ...  \n",
       "5900  Susannah Skiver Barton         750         40.0  \n",
       "5901         Jonny McCormick         750         45.0  \n",
       "5902         Jonny McCormick         750         45.0  \n",
       "5903         Jonny McCormick         750         52.5  \n",
       "5904  Susannah Skiver Barton         750         43.0  \n",
       "\n",
       "[5900 rows x 8 columns]"
      ]
     },
     "execution_count": 291,
     "metadata": {},
     "output_type": "execute_result"
    }
   ],
   "source": [
    "Whis_df.drop_duplicates(inplace = True)\n",
    "\n",
    "Whis_df"
   ]
  },
  {
   "cell_type": "code",
   "execution_count": 292,
   "metadata": {},
   "outputs": [],
   "source": [
    "Whis_df.to_csv('desktop/independant_projects/whiskey_data_scraper/clean_whiskey_data2.csv', index = False, encoding = 'utf-8-sig')"
   ]
  },
  {
   "cell_type": "code",
   "execution_count": null,
   "metadata": {},
   "outputs": [],
   "source": []
  }
 ],
 "metadata": {
  "kernelspec": {
   "display_name": "Python 3",
   "language": "python",
   "name": "python3"
  },
  "language_info": {
   "codemirror_mode": {
    "name": "ipython",
    "version": 3
   },
   "file_extension": ".py",
   "mimetype": "text/x-python",
   "name": "python",
   "nbconvert_exporter": "python",
   "pygments_lexer": "ipython3",
   "version": "3.8.3"
  }
 },
 "nbformat": 4,
 "nbformat_minor": 4
}
